{
  "nbformat": 4,
  "nbformat_minor": 0,
  "metadata": {
    "kernelspec": {
      "display_name": "Python 3 (ipykernel)",
      "language": "python",
      "name": "python3"
    },
    "language_info": {
      "codemirror_mode": {
        "name": "ipython",
        "version": 3
      },
      "file_extension": ".py",
      "mimetype": "text/x-python",
      "name": "python",
      "nbconvert_exporter": "python",
      "pygments_lexer": "ipython3",
      "version": "3.8.10"
    },
    "colab": {
      "name": "hierarchical-clustering.ipynb",
      "provenance": [],
      "collapsed_sections": [],
      "include_colab_link": true
    }
  },
  "cells": [
    {
      "cell_type": "markdown",
      "metadata": {
        "id": "view-in-github",
        "colab_type": "text"
      },
      "source": [
        "<a href=\"https://colab.research.google.com/github/aminzayer/Hiehierarchical-clustering/blob/main/hierarchical_clustering.ipynb\" target=\"_parent\"><img src=\"https://colab.research.google.com/assets/colab-badge.svg\" alt=\"Open In Colab\"/></a>"
      ]
    },
    {
      "cell_type": "markdown",
      "metadata": {
        "id": "4vmuuoFzvRYp"
      },
      "source": [
        "# Problem : Please Clustering Below Data with Hierarchical Algorithms\n",
        "# (1,3)-(4,2)-(5,6)-(3,1)-(7,2)-(3,3)"
      ]
    },
    {
      "cell_type": "code",
      "metadata": {
        "_cell_guid": "b1076dfc-b9ad-4769-8c92-a6c4dae69d19",
        "_uuid": "8f2839f25d086af736a60e9eeb907d3b93b6e0e5",
        "execution": {
          "iopub.execute_input": "2021-12-07T16:07:53.609597Z",
          "iopub.status.busy": "2021-12-07T16:07:53.609240Z",
          "iopub.status.idle": "2021-12-07T16:07:53.615091Z",
          "shell.execute_reply": "2021-12-07T16:07:53.613977Z",
          "shell.execute_reply.started": "2021-12-07T16:07:53.609560Z"
        },
        "id": "_QQDf0AIvRY4"
      },
      "source": [
        "import numpy as np\n",
        "X = np.array([[1,3],[4,2],[5,6],[3,1],[7,2],[3,3],])"
      ],
      "execution_count": 3,
      "outputs": []
    },
    {
      "cell_type": "markdown",
      "metadata": {
        "id": "elIUEFE3vRY7"
      },
      "source": [
        "# Plotting Data "
      ]
    },
    {
      "cell_type": "code",
      "metadata": {
        "execution": {
          "iopub.execute_input": "2021-12-07T16:16:44.206826Z",
          "iopub.status.busy": "2021-12-07T16:16:44.206287Z",
          "iopub.status.idle": "2021-12-07T16:16:44.385770Z",
          "shell.execute_reply": "2021-12-07T16:16:44.384764Z",
          "shell.execute_reply.started": "2021-12-07T16:16:44.206777Z"
        },
        "colab": {
          "base_uri": "https://localhost:8080/",
          "height": 222
        },
        "id": "or9yjcQJvRY8",
        "outputId": "dc2dea2f-cb67-48da-a47c-86f85e2384f8"
      },
      "source": [
        "import matplotlib.pyplot as plt\n",
        "labels = range(1, 7)\n",
        "plt.figure(figsize=(7, 3))\n",
        "plt.subplots_adjust(bottom=0.1)\n",
        "plt.scatter(X[:,0],X[:,1], label='True Position')\n",
        "\n",
        "for label, x, y in zip(labels, X[:, 0], X[:, 1]):\n",
        "    plt.annotate(\n",
        "        label,\n",
        "        xy=(x, y), xytext=(-3, 3),\n",
        "        textcoords='offset points', ha='right', va='bottom')\n",
        "plt.show()"
      ],
      "execution_count": 4,
      "outputs": [
        {
          "output_type": "display_data",
          "data": {
            "image/png": "[encoded data removed]",
            "text/plain": [
              "<Figure size 504x216 with 1 Axes>"
            ]
          },
          "metadata": {
            "needs_background": "light"
          }
        }
      ]
    },
    {
      "cell_type": "markdown",
      "metadata": {
        "id": "c9v50PfyvRZB"
      },
      "source": [
        "# Use Hierarchical Algorithm Single Method"
      ]
    },
    {
      "cell_type": "code",
      "metadata": {
        "execution": {
          "iopub.execute_input": "2021-12-07T16:16:56.892869Z",
          "iopub.status.busy": "2021-12-07T16:16:56.892536Z",
          "iopub.status.idle": "2021-12-07T16:16:57.101980Z",
          "shell.execute_reply": "2021-12-07T16:16:57.100976Z",
          "shell.execute_reply.started": "2021-12-07T16:16:56.892837Z"
        },
        "colab": {
          "base_uri": "https://localhost:8080/",
          "height": 214
        },
        "id": "xCk70GZlvRZB",
        "outputId": "ea8f74bb-4134-43b7-e35c-ea019b008e4c"
      },
      "source": [
        "from scipy.cluster.hierarchy import dendrogram, linkage\n",
        "from matplotlib import pyplot as plt\n",
        "\n",
        "linked = linkage(X, 'single')\n",
        "\n",
        "labelList = range(1, 7)\n",
        "\n",
        "plt.figure(figsize=(7, 3))\n",
        "dendrogram(linked,orientation='top',labels=labelList,distance_sort='descending',show_leaf_counts=True)\n",
        "plt.show()"
      ],
      "execution_count": 5,
      "outputs": [
        {
          "output_type": "display_data",
          "data": {
            "image/png": "[encoded data removed]",
            "text/plain": [
              "<Figure size 504x216 with 1 Axes>"
            ]
          },
          "metadata": {
            "needs_background": "light"
          }
        }
      ]
    },
    {
      "cell_type": "markdown",
      "metadata": {
        "id": "8Z50YBFzvRZD"
      },
      "source": [
        "# Use Hierarchical Algorithm Complete Method"
      ]
    },
    {
      "cell_type": "code",
      "metadata": {
        "execution": {
          "iopub.execute_input": "2021-12-07T16:20:35.276076Z",
          "iopub.status.busy": "2021-12-07T16:20:35.275791Z",
          "iopub.status.idle": "2021-12-07T16:20:35.489041Z",
          "shell.execute_reply": "2021-12-07T16:20:35.487923Z",
          "shell.execute_reply.started": "2021-12-07T16:20:35.276046Z"
        },
        "colab": {
          "base_uri": "https://localhost:8080/",
          "height": 214
        },
        "id": "2MdRmvlIvRZE",
        "outputId": "5ad3e265-2a8e-4ca6-8734-7254fbd36e48"
      },
      "source": [
        "from scipy.cluster.hierarchy import dendrogram, linkage\n",
        "from matplotlib import pyplot as plt\n",
        "\n",
        "linked = linkage(X, 'complete')\n",
        "\n",
        "labelList = range(1, 7)\n",
        "\n",
        "plt.figure(figsize=(7, 3))\n",
        "dendrogram(linked,orientation='top',labels=labelList,distance_sort='descending',show_leaf_counts=True)\n",
        "plt.show()"
      ],
      "execution_count": 6,
      "outputs": [
        {
          "output_type": "display_data",
          "data": {
            "image/png": "[encoded data removed]",
            "text/plain": [
              "<Figure size 504x216 with 1 Axes>"
            ]
          },
          "metadata": {
            "needs_background": "light"
          }
        }
      ]
    },
    {
      "cell_type": "markdown",
      "metadata": {
        "id": "jqpp-NdvvRZF"
      },
      "source": [
        "# Use Hierarchical Algorithm Average Method"
      ]
    },
    {
      "cell_type": "code",
      "metadata": {
        "execution": {
          "iopub.execute_input": "2021-12-07T16:21:45.157157Z",
          "iopub.status.busy": "2021-12-07T16:21:45.156808Z",
          "iopub.status.idle": "2021-12-07T16:21:45.358851Z",
          "shell.execute_reply": "2021-12-07T16:21:45.357873Z",
          "shell.execute_reply.started": "2021-12-07T16:21:45.157080Z"
        },
        "colab": {
          "base_uri": "https://localhost:8080/",
          "height": 214
        },
        "id": "PYdPnMwKvRZH",
        "outputId": "dc291fa7-1e53-4beb-ff83-1e6886afb64d"
      },
      "source": [
        "from scipy.cluster.hierarchy import dendrogram, linkage\n",
        "from matplotlib import pyplot as plt\n",
        "\n",
        "linked = linkage(X, 'average')\n",
        "\n",
        "labelList = range(1, 7)\n",
        "\n",
        "plt.figure(figsize=(7, 3))\n",
        "dendrogram(linked,orientation='top',labels=labelList,distance_sort='descending',show_leaf_counts=True)\n",
        "plt.show()"
      ],
      "execution_count": 7,
      "outputs": [
        {
          "output_type": "display_data",
          "data": {
            "image/png": "[encoded data removed]",
            "text/plain": [
              "<Figure size 504x216 with 1 Axes>"
            ]
          },
          "metadata": {
            "needs_background": "light"
          }
        }
      ]
    },
    {
      "cell_type": "markdown",
      "metadata": {
        "id": "WVzERCghzZxJ"
      },
      "source": [
        "# Use Hierarchical Algorithm Ward Method"
      ]
    },
    {
      "cell_type": "code",
      "metadata": {
        "colab": {
          "base_uri": "https://localhost:8080/",
          "height": 214
        },
        "id": "H9WLB4unzzi_",
        "outputId": "03125ae1-67b5-4108-d622-16cec54bb3e3"
      },
      "source": [
        "from scipy.cluster.hierarchy import dendrogram, linkage\n",
        "from matplotlib import pyplot as plt\n",
        "\n",
        "linked = linkage(X, 'ward')\n",
        "\n",
        "labelList = range(1, 7)\n",
        "\n",
        "plt.figure(figsize=(7, 3))\n",
        "dendrogram(linked,orientation='top',labels=labelList,distance_sort='descending',show_leaf_counts=True)\n",
        "plt.show()"
      ],
      "execution_count": 8,
      "outputs": [
        {
          "output_type": "display_data",
          "data": {
            "image/png": "[encoded data removed]",
            "text/plain": [
              "<Figure size 504x216 with 1 Axes>"
            ]
          },
          "metadata": {
            "needs_background": "light"
          }
        }
      ]
    },
    {
      "cell_type": "markdown",
      "metadata": {
        "id": "fdhuYIeG0WNf"
      },
      "source": [
        "# Use Hierarchical Algorithm Centroid Method"
      ]
    },
    {
      "cell_type": "code",
      "metadata": {
        "colab": {
          "base_uri": "https://localhost:8080/",
          "height": 214
        },
        "id": "v-3JSI8t0cKn",
        "outputId": "58c108de-5864-4f2c-9710-b229f2930d8b"
      },
      "source": [
        "from scipy.cluster.hierarchy import dendrogram, linkage\n",
        "from matplotlib import pyplot as plt\n",
        "\n",
        "linked = linkage(X, 'centroid')\n",
        "\n",
        "labelList = range(1, 7)\n",
        "\n",
        "plt.figure(figsize=(7, 3))\n",
        "dendrogram(linked,orientation='top',labels=labelList,distance_sort='descending',show_leaf_counts=True)\n",
        "plt.show()"
      ],
      "execution_count": 9,
      "outputs": [
        {
          "output_type": "display_data",
          "data": {
            "image/png": "[encoded data removed]",
            "text/plain": [
              "<Figure size 504x216 with 1 Axes>"
            ]
          },
          "metadata": {
            "needs_background": "light"
          }
        }
      ]
    },
    {
      "cell_type": "markdown",
      "metadata": {
        "id": "SMymoVGa02ky"
      },
      "source": [
        "# Use Hierarchical Algorithm Median Method"
      ]
    },
    {
      "cell_type": "code",
      "metadata": {
        "colab": {
          "base_uri": "https://localhost:8080/",
          "height": 214
        },
        "id": "nJyyTal21DLo",
        "outputId": "8f05a429-da76-47d7-c335-61ec2a05589f"
      },
      "source": [
        "from scipy.cluster.hierarchy import dendrogram, linkage\n",
        "from matplotlib import pyplot as plt\n",
        "\n",
        "linked = linkage(X, 'median')\n",
        "\n",
        "labelList = range(1, 7)\n",
        "\n",
        "plt.figure(figsize=(7, 3))\n",
        "dendrogram(linked,orientation='top',labels=labelList,distance_sort='descending',show_leaf_counts=True)\n",
        "plt.show()"
      ],
      "execution_count": 10,
      "outputs": [
        {
          "output_type": "display_data",
          "data": {
            "image/png": "[encoded data removed]",
            "text/plain": [
              "<Figure size 504x216 with 1 Axes>"
            ]
          },
          "metadata": {
            "needs_background": "light"
          }
        }
      ]
    }
  ]
}
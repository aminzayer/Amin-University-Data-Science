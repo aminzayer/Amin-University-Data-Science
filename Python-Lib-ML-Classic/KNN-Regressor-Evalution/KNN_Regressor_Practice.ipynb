{
  "nbformat": 4,
  "nbformat_minor": 0,
  "metadata": {
    "colab": {
      "name": "KNN-Regressor-Practice.ipynb",
      "provenance": [],
      "collapsed_sections": [],
      "authorship_tag": "ABX9TyMfo6q4YIawvnyldYoVRwpA",
      "include_colab_link": true
    },
    "kernelspec": {
      "name": "python3",
      "display_name": "Python 3"
    },
    "language_info": {
      "name": "python"
    }
  },
  "cells": [
    {
      "cell_type": "markdown",
      "metadata": {
        "id": "view-in-github",
        "colab_type": "text"
      },
      "source": [
        "<a href=\"https://colab.research.google.com/github/aminzayer/KNN-Regressor-Evalution/blob/main/KNN_Regressor_Practice.ipynb\" target=\"_parent\"><img src=\"https://colab.research.google.com/assets/colab-badge.svg\" alt=\"Open In Colab\"/></a>"
      ]
    },
    {
      "cell_type": "markdown",
      "metadata": {
        "id": "ccb42e43"
      },
      "source": [
        "## Implementation of KNN in Python KNN-Regressor & KNN Predict & Evalution\n",
        "## [[3, 4, 5], [6, 9, 7], [2, 4, 5],[1, 3, 2], [7, 7, 7], [5, 6,7], [4, 4 ,8],[2, 2, 2],[3 ,5 ,1]]\n",
        "\n",
        "## With This Label for Classification=> [1,2,1,1,2,2,2,1,1]\n",
        "## Test Data ==> [5 ,5 ,5] , [6 , 3 ,2]"
      ]
    },
    {
      "cell_type": "code",
      "source": [
        "import pandas as pd\n",
        "import numpy as np"
      ],
      "metadata": {
        "id": "NYaO_7ZkUtay"
      },
      "execution_count": 107,
      "outputs": []
    },
    {
      "cell_type": "markdown",
      "source": [
        "# Load the Dataset\n",
        "## Create DataFrame from Train Data"
      ],
      "metadata": {
        "id": "Gcmr-xDcUy6y"
      }
    },
    {
      "cell_type": "code",
      "source": [
        "# Use Pandas lib for Create Dataframe\n",
        "TrainData = pd.DataFrame([[3, 4, 5, 1],\n",
        "                         [6, 9, 7, 2],\n",
        "                         [2, 4, 5, 1],\n",
        "                         [1, 3, 2, 1],\n",
        "                         [7, 7, 7, 2],\n",
        "                         [5, 6, 7, 2],\n",
        "                         [4, 4 ,8, 2],\n",
        "                         [2, 2, 3, 1],\n",
        "                         [3, 5, 1, 1]],columns=['F1', 'F2', 'F3','Label'])\n",
        "print('Show Train Data')\n",
        "TrainData"
      ],
      "metadata": {
        "colab": {
          "base_uri": "https://localhost:8080/",
          "height": 349
        },
        "id": "F5mHOLvhU30b",
        "outputId": "bcca8c06-b6cc-46a9-8635-bb07f2814508"
      },
      "execution_count": 108,
      "outputs": [
        {
          "output_type": "stream",
          "name": "stdout",
          "text": [
            "Show Train Data\n"
          ]
        },
        {
          "output_type": "execute_result",
          "data": {
            "text/html": [
              "\n",
              "  <div id=\"df-64366061-7567-4b6d-8f6b-42a08664c6e6\">\n",
              "    <div class=\"colab-df-container\">\n",
              "      <div>\n",
              "<style scoped>\n",
              "    .dataframe tbody tr th:only-of-type {\n",
              "        vertical-align: middle;\n",
              "    }\n",
              "\n",
              "    .dataframe tbody tr th {\n",
              "        vertical-align: top;\n",
              "    }\n",
              "\n",
              "    .dataframe thead th {\n",
              "        text-align: right;\n",
              "    }\n",
              "</style>\n",
              "<table border=\"1\" class=\"dataframe\">\n",
              "  <thead>\n",
              "    <tr style=\"text-align: right;\">\n",
              "      <th></th>\n",
              "      <th>F1</th>\n",
              "      <th>F2</th>\n",
              "      <th>F3</th>\n",
              "      <th>Label</th>\n",
              "    </tr>\n",
              "  </thead>\n",
              "  <tbody>\n",
              "    <tr>\n",
              "      <th>0</th>\n",
              "      <td>3</td>\n",
              "      <td>4</td>\n",
              "      <td>5</td>\n",
              "      <td>1</td>\n",
              "    </tr>\n",
              "    <tr>\n",
              "      <th>1</th>\n",
              "      <td>6</td>\n",
              "      <td>9</td>\n",
              "      <td>7</td>\n",
              "      <td>2</td>\n",
              "    </tr>\n",
              "    <tr>\n",
              "      <th>2</th>\n",
              "      <td>2</td>\n",
              "      <td>4</td>\n",
              "      <td>5</td>\n",
              "      <td>1</td>\n",
              "    </tr>\n",
              "    <tr>\n",
              "      <th>3</th>\n",
              "      <td>1</td>\n",
              "      <td>3</td>\n",
              "      <td>2</td>\n",
              "      <td>1</td>\n",
              "    </tr>\n",
              "    <tr>\n",
              "      <th>4</th>\n",
              "      <td>7</td>\n",
              "      <td>7</td>\n",
              "      <td>7</td>\n",
              "      <td>2</td>\n",
              "    </tr>\n",
              "    <tr>\n",
              "      <th>5</th>\n",
              "      <td>5</td>\n",
              "      <td>6</td>\n",
              "      <td>7</td>\n",
              "      <td>2</td>\n",
              "    </tr>\n",
              "    <tr>\n",
              "      <th>6</th>\n",
              "      <td>4</td>\n",
              "      <td>4</td>\n",
              "      <td>8</td>\n",
              "      <td>2</td>\n",
              "    </tr>\n",
              "    <tr>\n",
              "      <th>7</th>\n",
              "      <td>2</td>\n",
              "      <td>2</td>\n",
              "      <td>3</td>\n",
              "      <td>1</td>\n",
              "    </tr>\n",
              "    <tr>\n",
              "      <th>8</th>\n",
              "      <td>3</td>\n",
              "      <td>5</td>\n",
              "      <td>1</td>\n",
              "      <td>1</td>\n",
              "    </tr>\n",
              "  </tbody>\n",
              "</table>\n",
              "</div>\n",
              "      <button class=\"colab-df-convert\" onclick=\"convertToInteractive('df-64366061-7567-4b6d-8f6b-42a08664c6e6')\"\n",
              "              title=\"Convert this dataframe to an interactive table.\"\n",
              "              style=\"display:none;\">\n",
              "        \n",
              "  <svg xmlns=\"http://www.w3.org/2000/svg\" height=\"24px\"viewBox=\"0 0 24 24\"\n",
              "       width=\"24px\">\n",
              "    <path d=\"M0 0h24v24H0V0z\" fill=\"none\"/>\n",
              "    <path d=\"M18.56 5.44l.94 2.06.94-2.06 2.06-.94-2.06-.94-.94-2.06-.94 2.06-2.06.94zm-11 1L8.5 8.5l.94-2.06 2.06-.94-2.06-.94L8.5 2.5l-.94 2.06-2.06.94zm10 10l.94 2.06.94-2.06 2.06-.94-2.06-.94-.94-2.06-.94 2.06-2.06.94z\"/><path d=\"M17.41 7.96l-1.37-1.37c-.4-.4-.92-.59-1.43-.59-.52 0-1.04.2-1.43.59L10.3 9.45l-7.72 7.72c-.78.78-.78 2.05 0 2.83L4 21.41c.39.39.9.59 1.41.59.51 0 1.02-.2 1.41-.59l7.78-7.78 2.81-2.81c.8-.78.8-2.07 0-2.86zM5.41 20L4 18.59l7.72-7.72 1.47 1.35L5.41 20z\"/>\n",
              "  </svg>\n",
              "      </button>\n",
              "      \n",
              "  <style>\n",
              "    .colab-df-container {\n",
              "      display:flex;\n",
              "      flex-wrap:wrap;\n",
              "      gap: 12px;\n",
              "    }\n",
              "\n",
              "    .colab-df-convert {\n",
              "      background-color: #E8F0FE;\n",
              "      border: none;\n",
              "      border-radius: 50%;\n",
              "      cursor: pointer;\n",
              "      display: none;\n",
              "      fill: #1967D2;\n",
              "      height: 32px;\n",
              "      padding: 0 0 0 0;\n",
              "      width: 32px;\n",
              "    }\n",
              "\n",
              "    .colab-df-convert:hover {\n",
              "      background-color: #E2EBFA;\n",
              "      box-shadow: 0px 1px 2px rgba(60, 64, 67, 0.3), 0px 1px 3px 1px rgba(60, 64, 67, 0.15);\n",
              "      fill: #174EA6;\n",
              "    }\n",
              "\n",
              "    [theme=dark] .colab-df-convert {\n",
              "      background-color: #3B4455;\n",
              "      fill: #D2E3FC;\n",
              "    }\n",
              "\n",
              "    [theme=dark] .colab-df-convert:hover {\n",
              "      background-color: #434B5C;\n",
              "      box-shadow: 0px 1px 3px 1px rgba(0, 0, 0, 0.15);\n",
              "      filter: drop-shadow(0px 1px 2px rgba(0, 0, 0, 0.3));\n",
              "      fill: #FFFFFF;\n",
              "    }\n",
              "  </style>\n",
              "\n",
              "      <script>\n",
              "        const buttonEl =\n",
              "          document.querySelector('#df-64366061-7567-4b6d-8f6b-42a08664c6e6 button.colab-df-convert');\n",
              "        buttonEl.style.display =\n",
              "          google.colab.kernel.accessAllowed ? 'block' : 'none';\n",
              "\n",
              "        async function convertToInteractive(key) {\n",
              "          const element = document.querySelector('#df-64366061-7567-4b6d-8f6b-42a08664c6e6');\n",
              "          const dataTable =\n",
              "            await google.colab.kernel.invokeFunction('convertToInteractive',\n",
              "                                                     [key], {});\n",
              "          if (!dataTable) return;\n",
              "\n",
              "          const docLinkHtml = 'Like what you see? Visit the ' +\n",
              "            '<a target=\"_blank\" href=https://colab.research.google.com/notebooks/data_table.ipynb>data table notebook</a>'\n",
              "            + ' to learn more about interactive tables.';\n",
              "          element.innerHTML = '';\n",
              "          dataTable['output_type'] = 'display_data';\n",
              "          await google.colab.output.renderOutput(dataTable, element);\n",
              "          const docLink = document.createElement('div');\n",
              "          docLink.innerHTML = docLinkHtml;\n",
              "          element.appendChild(docLink);\n",
              "        }\n",
              "      </script>\n",
              "    </div>\n",
              "  </div>\n",
              "  "
            ],
            "text/plain": [
              "   F1  F2  F3  Label\n",
              "0   3   4   5      1\n",
              "1   6   9   7      2\n",
              "2   2   4   5      1\n",
              "3   1   3   2      1\n",
              "4   7   7   7      2\n",
              "5   5   6   7      2\n",
              "6   4   4   8      2\n",
              "7   2   2   3      1\n",
              "8   3   5   1      1"
            ]
          },
          "metadata": {},
          "execution_count": 108
        }
      ]
    },
    {
      "cell_type": "markdown",
      "source": [
        "## Create DataFrame from Test Data"
      ],
      "metadata": {
        "id": "o3Ood4ILYIE1"
      }
    },
    {
      "cell_type": "code",
      "source": [
        "TestData = pd.DataFrame([[5, 5, 5, 0],\n",
        "                         [6, 3, 2, 0]],columns=['F1', 'F2', 'F3','Label'])\n",
        "print('Show Test Data')\n",
        "TestData"
      ],
      "metadata": {
        "colab": {
          "base_uri": "https://localhost:8080/",
          "height": 129
        },
        "id": "1i5ZKG9bYN6E",
        "outputId": "251d4be4-5eb4-4f0d-f448-afafdf903bb8"
      },
      "execution_count": 109,
      "outputs": [
        {
          "output_type": "stream",
          "name": "stdout",
          "text": [
            "Show Test Data\n"
          ]
        },
        {
          "output_type": "execute_result",
          "data": {
            "text/html": [
              "\n",
              "  <div id=\"df-56266452-6578-4b60-9c8a-ed959d4d4f6e\">\n",
              "    <div class=\"colab-df-container\">\n",
              "      <div>\n",
              "<style scoped>\n",
              "    .dataframe tbody tr th:only-of-type {\n",
              "        vertical-align: middle;\n",
              "    }\n",
              "\n",
              "    .dataframe tbody tr th {\n",
              "        vertical-align: top;\n",
              "    }\n",
              "\n",
              "    .dataframe thead th {\n",
              "        text-align: right;\n",
              "    }\n",
              "</style>\n",
              "<table border=\"1\" class=\"dataframe\">\n",
              "  <thead>\n",
              "    <tr style=\"text-align: right;\">\n",
              "      <th></th>\n",
              "      <th>F1</th>\n",
              "      <th>F2</th>\n",
              "      <th>F3</th>\n",
              "      <th>Label</th>\n",
              "    </tr>\n",
              "  </thead>\n",
              "  <tbody>\n",
              "    <tr>\n",
              "      <th>0</th>\n",
              "      <td>5</td>\n",
              "      <td>5</td>\n",
              "      <td>5</td>\n",
              "      <td>0</td>\n",
              "    </tr>\n",
              "    <tr>\n",
              "      <th>1</th>\n",
              "      <td>6</td>\n",
              "      <td>3</td>\n",
              "      <td>2</td>\n",
              "      <td>0</td>\n",
              "    </tr>\n",
              "  </tbody>\n",
              "</table>\n",
              "</div>\n",
              "      <button class=\"colab-df-convert\" onclick=\"convertToInteractive('df-56266452-6578-4b60-9c8a-ed959d4d4f6e')\"\n",
              "              title=\"Convert this dataframe to an interactive table.\"\n",
              "              style=\"display:none;\">\n",
              "        \n",
              "  <svg xmlns=\"http://www.w3.org/2000/svg\" height=\"24px\"viewBox=\"0 0 24 24\"\n",
              "       width=\"24px\">\n",
              "    <path d=\"M0 0h24v24H0V0z\" fill=\"none\"/>\n",
              "    <path d=\"M18.56 5.44l.94 2.06.94-2.06 2.06-.94-2.06-.94-.94-2.06-.94 2.06-2.06.94zm-11 1L8.5 8.5l.94-2.06 2.06-.94-2.06-.94L8.5 2.5l-.94 2.06-2.06.94zm10 10l.94 2.06.94-2.06 2.06-.94-2.06-.94-.94-2.06-.94 2.06-2.06.94z\"/><path d=\"M17.41 7.96l-1.37-1.37c-.4-.4-.92-.59-1.43-.59-.52 0-1.04.2-1.43.59L10.3 9.45l-7.72 7.72c-.78.78-.78 2.05 0 2.83L4 21.41c.39.39.9.59 1.41.59.51 0 1.02-.2 1.41-.59l7.78-7.78 2.81-2.81c.8-.78.8-2.07 0-2.86zM5.41 20L4 18.59l7.72-7.72 1.47 1.35L5.41 20z\"/>\n",
              "  </svg>\n",
              "      </button>\n",
              "      \n",
              "  <style>\n",
              "    .colab-df-container {\n",
              "      display:flex;\n",
              "      flex-wrap:wrap;\n",
              "      gap: 12px;\n",
              "    }\n",
              "\n",
              "    .colab-df-convert {\n",
              "      background-color: #E8F0FE;\n",
              "      border: none;\n",
              "      border-radius: 50%;\n",
              "      cursor: pointer;\n",
              "      display: none;\n",
              "      fill: #1967D2;\n",
              "      height: 32px;\n",
              "      padding: 0 0 0 0;\n",
              "      width: 32px;\n",
              "    }\n",
              "\n",
              "    .colab-df-convert:hover {\n",
              "      background-color: #E2EBFA;\n",
              "      box-shadow: 0px 1px 2px rgba(60, 64, 67, 0.3), 0px 1px 3px 1px rgba(60, 64, 67, 0.15);\n",
              "      fill: #174EA6;\n",
              "    }\n",
              "\n",
              "    [theme=dark] .colab-df-convert {\n",
              "      background-color: #3B4455;\n",
              "      fill: #D2E3FC;\n",
              "    }\n",
              "\n",
              "    [theme=dark] .colab-df-convert:hover {\n",
              "      background-color: #434B5C;\n",
              "      box-shadow: 0px 1px 3px 1px rgba(0, 0, 0, 0.15);\n",
              "      filter: drop-shadow(0px 1px 2px rgba(0, 0, 0, 0.3));\n",
              "      fill: #FFFFFF;\n",
              "    }\n",
              "  </style>\n",
              "\n",
              "      <script>\n",
              "        const buttonEl =\n",
              "          document.querySelector('#df-56266452-6578-4b60-9c8a-ed959d4d4f6e button.colab-df-convert');\n",
              "        buttonEl.style.display =\n",
              "          google.colab.kernel.accessAllowed ? 'block' : 'none';\n",
              "\n",
              "        async function convertToInteractive(key) {\n",
              "          const element = document.querySelector('#df-56266452-6578-4b60-9c8a-ed959d4d4f6e');\n",
              "          const dataTable =\n",
              "            await google.colab.kernel.invokeFunction('convertToInteractive',\n",
              "                                                     [key], {});\n",
              "          if (!dataTable) return;\n",
              "\n",
              "          const docLinkHtml = 'Like what you see? Visit the ' +\n",
              "            '<a target=\"_blank\" href=https://colab.research.google.com/notebooks/data_table.ipynb>data table notebook</a>'\n",
              "            + ' to learn more about interactive tables.';\n",
              "          element.innerHTML = '';\n",
              "          dataTable['output_type'] = 'display_data';\n",
              "          await google.colab.output.renderOutput(dataTable, element);\n",
              "          const docLink = document.createElement('div');\n",
              "          docLink.innerHTML = docLinkHtml;\n",
              "          element.appendChild(docLink);\n",
              "        }\n",
              "      </script>\n",
              "    </div>\n",
              "  </div>\n",
              "  "
            ],
            "text/plain": [
              "   F1  F2  F3  Label\n",
              "0   5   5   5      0\n",
              "1   6   3   2      0"
            ]
          },
          "metadata": {},
          "execution_count": 109
        }
      ]
    },
    {
      "cell_type": "markdown",
      "source": [
        "## Select the Features"
      ],
      "metadata": {
        "id": "nySA7QvMY9rW"
      }
    },
    {
      "cell_type": "code",
      "source": [
        "# Train Data\n",
        "X_train = TrainData.iloc[:,[0,1,2]].values # Features Data\n",
        "Y_train = TrainData.iloc[:,[3]].values     # Labeled Data\n",
        "\n",
        "# Test Data\n",
        "X_test = TestData.iloc[:,[0,1,2]].values\n",
        "Y_test = TestData.iloc[:,[3]].values"
      ],
      "metadata": {
        "id": "a59JgN4TY_LO"
      },
      "execution_count": 110,
      "outputs": []
    },
    {
      "cell_type": "code",
      "source": [
        "# Show Train Data\n",
        "X_train,Y_train"
      ],
      "metadata": {
        "colab": {
          "base_uri": "https://localhost:8080/"
        },
        "id": "L9nZvfO4aTqy",
        "outputId": "af1d729a-403b-4d28-9ee9-ca7652eb0afd"
      },
      "execution_count": 111,
      "outputs": [
        {
          "output_type": "execute_result",
          "data": {
            "text/plain": [
              "(array([[3, 4, 5],\n",
              "        [6, 9, 7],\n",
              "        [2, 4, 5],\n",
              "        [1, 3, 2],\n",
              "        [7, 7, 7],\n",
              "        [5, 6, 7],\n",
              "        [4, 4, 8],\n",
              "        [2, 2, 3],\n",
              "        [3, 5, 1]]), array([[1],\n",
              "        [2],\n",
              "        [1],\n",
              "        [1],\n",
              "        [2],\n",
              "        [2],\n",
              "        [2],\n",
              "        [1],\n",
              "        [1]]))"
            ]
          },
          "metadata": {},
          "execution_count": 111
        }
      ]
    },
    {
      "cell_type": "code",
      "source": [
        "# Show Test Data\n",
        "X_test,Y_test"
      ],
      "metadata": {
        "colab": {
          "base_uri": "https://localhost:8080/"
        },
        "id": "jrkaYNHGaXtM",
        "outputId": "93a99c5f-1cc0-48b4-f660-119fae903bca"
      },
      "execution_count": 112,
      "outputs": [
        {
          "output_type": "execute_result",
          "data": {
            "text/plain": [
              "(array([[5, 5, 5],\n",
              "        [6, 3, 2]]), array([[0],\n",
              "        [0]]))"
            ]
          },
          "metadata": {},
          "execution_count": 112
        }
      ]
    },
    {
      "cell_type": "markdown",
      "source": [
        "### Define Error Metrics\n",
        "#### As this is a regression problem, we have defined MAPE as the error metrics as shown below"
      ],
      "metadata": {
        "id": "SFJf25y9aoEB"
      }
    },
    {
      "cell_type": "code",
      "source": [
        "def MAPE(Y_actual,Y_Predicted):\n",
        "    Mape = np.mean(np.abs((Y_actual - Y_Predicted)/Y_actual))*100\n",
        "    return Mape"
      ],
      "metadata": {
        "id": "zVUbYPVcaqKU"
      },
      "execution_count": 113,
      "outputs": []
    },
    {
      "cell_type": "markdown",
      "source": [
        "## Build the Model of KNN Classification"
      ],
      "metadata": {
        "id": "n2UNCD6ia4mN"
      }
    },
    {
      "cell_type": "code",
      "source": [
        "#Building the KNN.Regressor Model on our dataset\n",
        "k=3\n",
        "from sklearn.neighbors import KNeighborsClassifier\n",
        "KNN_model = KNeighborsClassifier(n_neighbors=k,metric='euclidean') # euclidean & minkowski & manhattan & \n",
        "KNN_model.fit(X_train,Y_train.ravel())"
      ],
      "metadata": {
        "colab": {
          "base_uri": "https://localhost:8080/"
        },
        "id": "ath5bjYPa51w",
        "outputId": "ce18d31a-0f88-4e71-8965-003a8910bba6"
      },
      "execution_count": 114,
      "outputs": [
        {
          "output_type": "execute_result",
          "data": {
            "text/plain": [
              "KNeighborsClassifier(metric='euclidean', n_neighbors=3)"
            ]
          },
          "metadata": {},
          "execution_count": 114
        }
      ]
    },
    {
      "cell_type": "markdown",
      "source": [
        "**The following lists the string metric identifiers and the associated distance metric classes:**\n",
        "\n",
        "**Metrics intended for real-valued vector spaces:**\n",
        "\n",
        "#### “euclidean”  = > sqrt(sum((x - y)^2))\n",
        "\n",
        "#### “manhattan” => sum(|x - y|)\n",
        "\n",
        "#### “chebyshev” => max(|x - y|)\n",
        "\n",
        "#### “minkowski” => sum(|x - y|^p)^(1/p)\n",
        "\n",
        "#### “wminkowski” => sum(|w * (x - y)|^p)^(1/p)\n",
        "\n",
        "#### “seuclidean” => sqrt(sum((x - y)^2 / V))\n",
        "\n",
        "#### “mahalanobis” => sqrt((x - y)' V^-1 (x - y))"
      ],
      "metadata": {
        "id": "mgQ6_h9VbCCw"
      }
    },
    {
      "cell_type": "markdown",
      "source": [
        "### Predict the testing Data"
      ],
      "metadata": {
        "id": "sIHJf8tabHty"
      }
    },
    {
      "cell_type": "code",
      "source": [
        "KNN_predict = KNN_model.predict(X_test)  # Predictions on Testing data"
      ],
      "metadata": {
        "id": "zQ39QRgdg-MY"
      },
      "execution_count": 115,
      "outputs": []
    },
    {
      "cell_type": "code",
      "source": [
        "X_test"
      ],
      "metadata": {
        "colab": {
          "base_uri": "https://localhost:8080/"
        },
        "id": "1IQeeWX8hEdW",
        "outputId": "cdc34883-d3f5-4ff8-8aaf-efef08af6641"
      },
      "execution_count": 116,
      "outputs": [
        {
          "output_type": "execute_result",
          "data": {
            "text/plain": [
              "array([[5, 5, 5],\n",
              "       [6, 3, 2]])"
            ]
          },
          "metadata": {},
          "execution_count": 116
        }
      ]
    },
    {
      "cell_type": "code",
      "source": [
        "Y_test = KNN_predict # Set Predicted label put on Y_Test\n",
        "Y_test   # Predicted Values"
      ],
      "metadata": {
        "colab": {
          "base_uri": "https://localhost:8080/"
        },
        "id": "jU_hEaINhFiu",
        "outputId": "32c4ff26-52e5-45d5-882a-cfb51a0bf688"
      },
      "execution_count": 117,
      "outputs": [
        {
          "output_type": "execute_result",
          "data": {
            "text/plain": [
              "array([1, 1])"
            ]
          },
          "metadata": {},
          "execution_count": 117
        }
      ]
    },
    {
      "cell_type": "markdown",
      "source": [
        "## Accuracy Check For KNN Classification !"
      ],
      "metadata": {
        "id": "C5v5ZpQxhRIH"
      }
    },
    {
      "cell_type": "code",
      "source": [
        "# Using MAPE error metrics to check for the error rate and accuracy level\n",
        "KNN_MAPE = MAPE(Y_train,KNN_predict)\n",
        "Accuracy_KNN = 100 - KNN_MAPE\n",
        "print(\"MAPE: \",KNN_MAPE)\n",
        "print('Accuracy of KNN model: {:0.2f}%.'.format(Accuracy_KNN))"
      ],
      "metadata": {
        "colab": {
          "base_uri": "https://localhost:8080/"
        },
        "id": "wYWBsAKXhSIe",
        "outputId": "bb00f9d2-9781-4b92-8e11-dd3bc686b566"
      },
      "execution_count": 118,
      "outputs": [
        {
          "output_type": "stream",
          "name": "stdout",
          "text": [
            "MAPE:  22.22222222222222\n",
            "Accuracy of KNN model: 77.78%.\n"
          ]
        }
      ]
    },
    {
      "cell_type": "markdown",
      "source": [
        "## Build the Model of KNN Regressor Classification"
      ],
      "metadata": {
        "id": "nOM0IUlui1lV"
      }
    },
    {
      "cell_type": "code",
      "source": [
        "#Building the KNN.Regressor Model on our dataset\n",
        "k=3\n",
        "from sklearn.neighbors import KNeighborsRegressor\n",
        "KNN_model = KNeighborsRegressor(n_neighbors=k).fit(X_train,Y_train)"
      ],
      "metadata": {
        "id": "6ZUAp10Fi3iB"
      },
      "execution_count": 121,
      "outputs": []
    },
    {
      "cell_type": "markdown",
      "source": [
        "### Predict the testing Data"
      ],
      "metadata": {
        "id": "eesSgAlMi_bh"
      }
    },
    {
      "cell_type": "code",
      "source": [
        "KNN_predict = KNN_model.predict(X_test) #Predictions on Testing data"
      ],
      "metadata": {
        "id": "U33r_GVijAzO"
      },
      "execution_count": 122,
      "outputs": []
    },
    {
      "cell_type": "code",
      "source": [
        "X_test"
      ],
      "metadata": {
        "colab": {
          "base_uri": "https://localhost:8080/"
        },
        "id": "qLCwTAB9jUjD",
        "outputId": "07eda409-3966-4748-f417-91555ac43eaa"
      },
      "execution_count": 123,
      "outputs": [
        {
          "output_type": "execute_result",
          "data": {
            "text/plain": [
              "array([[5, 5, 5],\n",
              "       [6, 3, 2]])"
            ]
          },
          "metadata": {},
          "execution_count": 123
        }
      ]
    },
    {
      "cell_type": "code",
      "source": [
        "Y_test = KNN_predict # Set Predicted label put on Y_Test\n",
        "Y_test   # Predicted Values"
      ],
      "metadata": {
        "colab": {
          "base_uri": "https://localhost:8080/"
        },
        "id": "rfhwYl2yjbTS",
        "outputId": "548bd1d4-c3c5-4bc7-9083-2cfbd51bf1d5"
      },
      "execution_count": 124,
      "outputs": [
        {
          "output_type": "execute_result",
          "data": {
            "text/plain": [
              "array([[1.33333333],\n",
              "       [1.        ]])"
            ]
          },
          "metadata": {},
          "execution_count": 124
        }
      ]
    },
    {
      "cell_type": "markdown",
      "source": [
        "## Accuracy Check For KNN Regressor Classification!"
      ],
      "metadata": {
        "id": "hYpi_dloji3l"
      }
    },
    {
      "cell_type": "code",
      "source": [
        "# Using MAPE error metrics to check for the error rate and accuracy level\n",
        "KNN_MAPE = MAPE(Y_train.reshape(1, -1),KNN_predict)\n",
        "Accuracy_KNN = 100 - KNN_MAPE\n",
        "print(\"MAPE: \",KNN_MAPE)\n",
        "print('Accuracy of KNN model: {:0.2f}%.'.format(Accuracy_KNN))"
      ],
      "metadata": {
        "colab": {
          "base_uri": "https://localhost:8080/"
        },
        "id": "78UII9WNjkKM",
        "outputId": "a1b2fd83-b448-47f1-d495-728efbb44ab6"
      },
      "execution_count": 134,
      "outputs": [
        {
          "output_type": "stream",
          "name": "stdout",
          "text": [
            "MAPE:  27.77777777777778\n",
            "Accuracy of KNN model: 72.22%.\n"
          ]
        }
      ]
    }
  ]
}
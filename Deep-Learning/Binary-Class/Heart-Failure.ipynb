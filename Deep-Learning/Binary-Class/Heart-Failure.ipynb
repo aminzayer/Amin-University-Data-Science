{
 "cells": [
  {
   "cell_type": "code",
   "execution_count": 2,
   "metadata": {
    "executionInfo": {
     "elapsed": 3450,
     "status": "ok",
     "timestamp": 1640255304549,
     "user": {
      "displayName": "Dr. Meisam Yadollahzadeh Tabari",
      "photoUrl": "https://lh3.googleusercontent.com/a-/AOh14GhE2l4bUVfkArr-5_qSRCUTof4izvZ5WXRx3_yVNA=s64",
      "userId": "06768878936068739537"
     },
     "user_tz": -210
    },
    "id": "yg-wSXu8lnBX"
   },
   "outputs": [],
   "source": [
    "# first neural network with keras tutorial\n",
    "from numpy import loadtxt\n",
    "from pandas import read_csv\n",
    "#from pandas import read_\n",
    "from keras.models import Sequential\n",
    "from keras.layers import Dense\n",
    "from keras.utils.vis_utils import plot_model\n",
    "from keras.models import Model,load_model"
   ]
  },
  {
   "cell_type": "code",
   "execution_count": 3,
   "metadata": {
    "executionInfo": {
     "elapsed": 640,
     "status": "ok",
     "timestamp": 1640255306820,
     "user": {
      "displayName": "Dr. Meisam Yadollahzadeh Tabari",
      "photoUrl": "https://lh3.googleusercontent.com/a-/AOh14GhE2l4bUVfkArr-5_qSRCUTof4izvZ5WXRx3_yVNA=s64",
      "userId": "06768878936068739537"
     },
     "user_tz": -210
    },
    "id": "gXEIzyhEmbhX"
   },
   "outputs": [],
   "source": [
    "# load the dataset\n",
    "dataset = loadtxt('heart-failure.data.txt', delimiter=',')\n",
    "# split into input (X) and output (y) variables\n",
    "X = dataset[:,0:12]\n",
    "y = dataset[:,12]"
   ]
  },
  {
   "cell_type": "code",
   "execution_count": 4,
   "metadata": {
    "colab": {
     "base_uri": "https://localhost:8080/"
    },
    "executionInfo": {
     "elapsed": 452,
     "status": "ok",
     "timestamp": 1640255312272,
     "user": {
      "displayName": "Dr. Meisam Yadollahzadeh Tabari",
      "photoUrl": "https://lh3.googleusercontent.com/a-/AOh14GhE2l4bUVfkArr-5_qSRCUTof4izvZ5WXRx3_yVNA=s64",
      "userId": "06768878936068739537"
     },
     "user_tz": -210
    },
    "id": "vxhT02DDcc68",
    "outputId": "fde7e7e6-9c3d-4ab5-d93a-4f5066376e10"
   },
   "outputs": [
    {
     "name": "stdout",
     "output_type": "stream",
     "text": [
      "(299, 12)\n",
      "(299,)\n",
      "<class 'numpy.ndarray'>\n"
     ]
    }
   ],
   "source": [
    "print(X.shape)\n",
    "print(y.shape)\n",
    "print(type(X))"
   ]
  },
  {
   "cell_type": "code",
   "execution_count": 8,
   "metadata": {
    "colab": {
     "base_uri": "https://localhost:8080/"
    },
    "executionInfo": {
     "elapsed": 1000,
     "status": "ok",
     "timestamp": 1610868654390,
     "user": {
      "displayName": "alireza ghomi",
      "photoUrl": "https://lh3.googleusercontent.com/a-/AOh14GgyTqtLycBqi8U4EklGaJhIyqpoj_7du0RotuqQ=s64",
      "userId": "07280400516243780047"
     },
     "user_tz": 480
    },
    "id": "uwW-4YW7HBvA",
    "outputId": "f6246f45-0cf2-4784-8e4c-85c2e7ff3a7c"
   },
   "outputs": [
    {
     "name": "stdout",
     "output_type": "stream",
     "text": [
      "[1. 1. 1. 1. 1. 1. 1. 1. 1. 1. 1. 1. 1. 1. 0. 1. 1. 1. 1. 1. 0. 1. 1. 0.\n",
      " 1. 1. 1. 1. 1. 1. 1. 1. 1. 0. 1. 1. 1. 1. 0. 1. 1. 1. 1. 0. 1. 1. 1. 1.\n",
      " 1. 1. 1. 1. 1. 1. 1. 1. 0. 0. 1. 1. 1. 1. 0. 1. 0. 1. 1. 1. 1. 1. 0. 0.\n",
      " 1. 0. 1. 1. 0. 0. 0. 0. 0. 0. 1. 0. 1. 0. 0. 0. 0. 0. 0. 0. 0. 1. 0. 0.\n",
      " 0. 0. 0. 0. 0. 0. 0. 0. 0. 1. 0. 0. 0. 0. 1. 0. 0. 1. 0. 0. 0. 0. 0. 1.\n",
      " 0. 0. 0. 0. 1. 0. 1. 0. 0. 0. 0. 0. 0. 0. 0. 0. 0. 0. 0. 0. 1. 0. 0. 0.\n",
      " 1. 0. 0. 0. 1. 0. 1. 0. 0. 0. 0. 0. 0. 0. 0. 0. 0. 0. 0. 1. 1. 1. 0. 1.\n",
      " 0. 0. 0. 0. 0. 0. 0. 0. 0. 0. 0. 0. 0. 1. 1. 1. 1. 1. 1. 1. 0. 0. 0. 0.\n",
      " 0. 0. 1. 1. 0. 0. 0. 0. 0. 0. 0. 0. 0. 0. 0. 0. 0. 0. 0. 0. 0. 1. 0. 0.\n",
      " 0. 1. 0. 0. 1. 0. 0. 0. 0. 0. 0. 0. 0. 0. 1. 0. 0. 0. 0. 0. 0. 0. 0. 0.\n",
      " 0. 0. 0. 0. 0. 0. 1. 0. 0. 0. 0. 0. 0. 0. 0. 0. 0. 0. 0. 0. 0. 0. 1. 0.\n",
      " 0. 0. 1. 0. 0. 0. 0. 0. 0. 0. 0. 0. 0. 0. 0. 0. 0. 0. 0. 0. 0. 0. 0. 0.\n",
      " 0. 0. 0. 0. 0. 0. 0. 0. 0. 0. 0.]\n"
     ]
    }
   ],
   "source": [
    "print(y)"
   ]
  },
  {
   "cell_type": "code",
   "execution_count": 9,
   "metadata": {
    "colab": {
     "base_uri": "https://localhost:8080/",
     "height": 568
    },
    "executionInfo": {
     "elapsed": 623,
     "status": "ok",
     "timestamp": 1640256708545,
     "user": {
      "displayName": "Dr. Meisam Yadollahzadeh Tabari",
      "photoUrl": "https://lh3.googleusercontent.com/a-/AOh14GhE2l4bUVfkArr-5_qSRCUTof4izvZ5WXRx3_yVNA=s64",
      "userId": "06768878936068739537"
     },
     "user_tz": -210
    },
    "id": "yvgDCNV8mduc",
    "outputId": "3faa9212-db86-4397-9580-04792cc0278f"
   },
   "outputs": [
    {
     "name": "stdout",
     "output_type": "stream",
     "text": [
      "Model: \"sequential_1\"\n",
      "_________________________________________________________________\n",
      " Layer (type)                Output Shape              Param #   \n",
      "=================================================================\n",
      " dense_3 (Dense)             (None, 12)                156       \n",
      "                                                                 \n",
      " dense_4 (Dense)             (None, 8)                 104       \n",
      "                                                                 \n",
      " dense_5 (Dense)             (None, 1)                 9         \n",
      "                                                                 \n",
      "=================================================================\n",
      "Total params: 269\n",
      "Trainable params: 269\n",
      "Non-trainable params: 0\n",
      "_________________________________________________________________\n",
      "None\n",
      "('You must install pydot (`pip install pydot`) and install graphviz (see instructions at https://graphviz.gitlab.io/download/) ', 'for plot_model/model_to_dot to work.')\n"
     ]
    }
   ],
   "source": [
    "# define the keras model\n",
    "model = Sequential()\n",
    "model.add(Dense(12, input_dim=12, activation='relu'))\n",
    "model.add(Dense(8, activation='relu'))\n",
    "model.add(Dense(1, activation='sigmoid'))\n",
    "# compile the keras model\n",
    "#from keral.optimizer import adam\n",
    "model.compile(loss='binary_crossentropy', optimizer='RMSProp' , metrics=['accuracy'])#categorical_crossentropy\n",
    "print(model.summary())\n",
    "plot_model(model, show_shapes=True, to_file='model1.png')"
   ]
  },
  {
   "cell_type": "markdown",
   "metadata": {
    "id": "5XuFQi5xgW8y"
   },
   "source": [
    "param_number = output_channel_number * (input_channel_number + 1)"
   ]
  },
  {
   "cell_type": "code",
   "execution_count": 10,
   "metadata": {
    "colab": {
     "base_uri": "https://localhost:8080/"
    },
    "executionInfo": {
     "elapsed": 42308,
     "status": "ok",
     "timestamp": 1640256259156,
     "user": {
      "displayName": "Dr. Meisam Yadollahzadeh Tabari",
      "photoUrl": "https://lh3.googleusercontent.com/a-/AOh14GhE2l4bUVfkArr-5_qSRCUTof4izvZ5WXRx3_yVNA=s64",
      "userId": "06768878936068739537"
     },
     "user_tz": -210
    },
    "id": "I4Ipu_ivmd2h",
    "outputId": "32df85bb-f984-46cd-c26a-f0e0e43be91d"
   },
   "outputs": [
    {
     "name": "stdout",
     "output_type": "stream",
     "text": [
      "Epoch 1/100\n",
      "30/30 [==============================] - 1s 2ms/step - loss: 344.9441 - accuracy: 0.5786\n",
      "Epoch 2/100\n",
      "30/30 [==============================] - 0s 2ms/step - loss: 197.5426 - accuracy: 0.5819\n",
      "Epoch 3/100\n",
      "30/30 [==============================] - 0s 2ms/step - loss: 183.4711 - accuracy: 0.6054\n",
      "Epoch 4/100\n",
      "30/30 [==============================] - 0s 2ms/step - loss: 204.2606 - accuracy: 0.5652\n",
      "Epoch 5/100\n",
      "30/30 [==============================] - 0s 3ms/step - loss: 210.6524 - accuracy: 0.5686\n",
      "Epoch 6/100\n",
      "30/30 [==============================] - 0s 3ms/step - loss: 211.5464 - accuracy: 0.5585\n",
      "Epoch 7/100\n",
      "30/30 [==============================] - 0s 1ms/step - loss: 192.6288 - accuracy: 0.5886\n",
      "Epoch 8/100\n",
      "30/30 [==============================] - 0s 1ms/step - loss: 254.1757 - accuracy: 0.5084\n",
      "Epoch 9/100\n",
      "30/30 [==============================] - 0s 2ms/step - loss: 202.0839 - accuracy: 0.5652\n",
      "Epoch 10/100\n",
      "30/30 [==============================] - 0s 2ms/step - loss: 170.2400 - accuracy: 0.6154\n",
      "Epoch 11/100\n",
      "30/30 [==============================] - 0s 2ms/step - loss: 214.3636 - accuracy: 0.5452\n",
      "Epoch 12/100\n",
      "30/30 [==============================] - 0s 1ms/step - loss: 204.0953 - accuracy: 0.5786\n",
      "Epoch 13/100\n",
      "30/30 [==============================] - 0s 1ms/step - loss: 209.6450 - accuracy: 0.5485\n",
      "Epoch 14/100\n",
      "30/30 [==============================] - 0s 1ms/step - loss: 200.8454 - accuracy: 0.6054\n",
      "Epoch 15/100\n",
      "30/30 [==============================] - 0s 1ms/step - loss: 211.7662 - accuracy: 0.5886\n",
      "Epoch 16/100\n",
      "30/30 [==============================] - 0s 1ms/step - loss: 202.9888 - accuracy: 0.5452\n",
      "Epoch 17/100\n",
      "30/30 [==============================] - 0s 2ms/step - loss: 200.9067 - accuracy: 0.5619\n",
      "Epoch 18/100\n",
      "30/30 [==============================] - 0s 3ms/step - loss: 190.9328 - accuracy: 0.5819\n",
      "Epoch 19/100\n",
      "30/30 [==============================] - 0s 2ms/step - loss: 201.0436 - accuracy: 0.5619\n",
      "Epoch 20/100\n",
      "30/30 [==============================] - 0s 1ms/step - loss: 178.3902 - accuracy: 0.5953\n",
      "Epoch 21/100\n",
      "30/30 [==============================] - 0s 1ms/step - loss: 215.3193 - accuracy: 0.5318\n",
      "Epoch 22/100\n",
      "30/30 [==============================] - 0s 2ms/step - loss: 218.1464 - accuracy: 0.5318\n",
      "Epoch 23/100\n",
      "30/30 [==============================] - 0s 1ms/step - loss: 195.6200 - accuracy: 0.5719\n",
      "Epoch 24/100\n",
      "30/30 [==============================] - 0s 1ms/step - loss: 203.0154 - accuracy: 0.5485\n",
      "Epoch 25/100\n",
      "30/30 [==============================] - 0s 1ms/step - loss: 214.0120 - accuracy: 0.5585\n",
      "Epoch 26/100\n",
      "30/30 [==============================] - 0s 1ms/step - loss: 200.6821 - accuracy: 0.5518\n",
      "Epoch 27/100\n",
      "30/30 [==============================] - 0s 1ms/step - loss: 184.0637 - accuracy: 0.5786\n",
      "Epoch 28/100\n",
      "30/30 [==============================] - 0s 1ms/step - loss: 180.8831 - accuracy: 0.6054\n",
      "Epoch 29/100\n",
      "30/30 [==============================] - 0s 1ms/step - loss: 163.2469 - accuracy: 0.5987\n",
      "Epoch 30/100\n",
      "30/30 [==============================] - 0s 1ms/step - loss: 174.2515 - accuracy: 0.5786\n",
      "Epoch 31/100\n",
      "30/30 [==============================] - 0s 1ms/step - loss: 206.7865 - accuracy: 0.5518\n",
      "Epoch 32/100\n",
      "30/30 [==============================] - 0s 1ms/step - loss: 179.8268 - accuracy: 0.5686\n",
      "Epoch 33/100\n",
      "30/30 [==============================] - 0s 1ms/step - loss: 213.2739 - accuracy: 0.5385\n",
      "Epoch 34/100\n",
      "30/30 [==============================] - 0s 1ms/step - loss: 212.2700 - accuracy: 0.5552\n",
      "Epoch 35/100\n",
      "30/30 [==============================] - 0s 1ms/step - loss: 175.9425 - accuracy: 0.5719\n",
      "Epoch 36/100\n",
      "30/30 [==============================] - 0s 1ms/step - loss: 186.0724 - accuracy: 0.5585\n",
      "Epoch 37/100\n",
      "30/30 [==============================] - 0s 1ms/step - loss: 178.4668 - accuracy: 0.5786\n",
      "Epoch 38/100\n",
      "30/30 [==============================] - 0s 1ms/step - loss: 177.0858 - accuracy: 0.6054\n",
      "Epoch 39/100\n",
      "30/30 [==============================] - 0s 1ms/step - loss: 188.1915 - accuracy: 0.5886\n",
      "Epoch 40/100\n",
      "30/30 [==============================] - 0s 1ms/step - loss: 173.2328 - accuracy: 0.5886\n",
      "Epoch 41/100\n",
      "30/30 [==============================] - 0s 1ms/step - loss: 185.8207 - accuracy: 0.5853\n",
      "Epoch 42/100\n",
      "30/30 [==============================] - 0s 1ms/step - loss: 191.3330 - accuracy: 0.5552\n",
      "Epoch 43/100\n",
      "30/30 [==============================] - 0s 1ms/step - loss: 193.2312 - accuracy: 0.5452\n",
      "Epoch 44/100\n",
      "30/30 [==============================] - 0s 1ms/step - loss: 168.0753 - accuracy: 0.6154\n",
      "Epoch 45/100\n",
      "30/30 [==============================] - 0s 1ms/step - loss: 162.5381 - accuracy: 0.5886\n",
      "Epoch 46/100\n",
      "30/30 [==============================] - 0s 2ms/step - loss: 218.9994 - accuracy: 0.5184\n",
      "Epoch 47/100\n",
      "30/30 [==============================] - 0s 1ms/step - loss: 150.1844 - accuracy: 0.6221\n",
      "Epoch 48/100\n",
      "30/30 [==============================] - 0s 1ms/step - loss: 156.6433 - accuracy: 0.6154\n",
      "Epoch 49/100\n",
      "30/30 [==============================] - 0s 1ms/step - loss: 185.7270 - accuracy: 0.5452\n",
      "Epoch 50/100\n",
      "30/30 [==============================] - 0s 1ms/step - loss: 188.8218 - accuracy: 0.5652\n",
      "Epoch 51/100\n",
      "30/30 [==============================] - 0s 1ms/step - loss: 177.2771 - accuracy: 0.5853\n",
      "Epoch 52/100\n",
      "30/30 [==============================] - 0s 1ms/step - loss: 160.0283 - accuracy: 0.5886\n",
      "Epoch 53/100\n",
      "30/30 [==============================] - 0s 1ms/step - loss: 179.6761 - accuracy: 0.5920\n",
      "Epoch 54/100\n",
      "30/30 [==============================] - 0s 1ms/step - loss: 189.2112 - accuracy: 0.5418\n",
      "Epoch 55/100\n",
      "30/30 [==============================] - 0s 1ms/step - loss: 191.9137 - accuracy: 0.5518\n",
      "Epoch 56/100\n",
      "30/30 [==============================] - 0s 1ms/step - loss: 171.6680 - accuracy: 0.5585\n",
      "Epoch 57/100\n",
      "30/30 [==============================] - 0s 1ms/step - loss: 171.7104 - accuracy: 0.5786\n",
      "Epoch 58/100\n",
      "30/30 [==============================] - 0s 1ms/step - loss: 155.7644 - accuracy: 0.6020\n",
      "Epoch 59/100\n",
      "30/30 [==============================] - 0s 1ms/step - loss: 166.3903 - accuracy: 0.5753\n",
      "Epoch 60/100\n",
      "30/30 [==============================] - 0s 1ms/step - loss: 168.4785 - accuracy: 0.5886\n",
      "Epoch 61/100\n",
      "30/30 [==============================] - 0s 1ms/step - loss: 165.9329 - accuracy: 0.6020\n",
      "Epoch 62/100\n",
      "30/30 [==============================] - 0s 1ms/step - loss: 152.8103 - accuracy: 0.6288\n",
      "Epoch 63/100\n",
      "30/30 [==============================] - 0s 1ms/step - loss: 164.2224 - accuracy: 0.5585\n",
      "Epoch 64/100\n",
      "30/30 [==============================] - 0s 1ms/step - loss: 176.5735 - accuracy: 0.5418\n",
      "Epoch 65/100\n",
      "30/30 [==============================] - 0s 1ms/step - loss: 169.7862 - accuracy: 0.5753\n",
      "Epoch 66/100\n",
      "30/30 [==============================] - 0s 2ms/step - loss: 150.6894 - accuracy: 0.5886\n",
      "Epoch 67/100\n",
      "30/30 [==============================] - 0s 1ms/step - loss: 165.9862 - accuracy: 0.5987\n",
      "Epoch 68/100\n",
      "30/30 [==============================] - 0s 1ms/step - loss: 144.4141 - accuracy: 0.6054\n",
      "Epoch 69/100\n",
      "30/30 [==============================] - 0s 1ms/step - loss: 171.6952 - accuracy: 0.5786\n",
      "Epoch 70/100\n",
      "30/30 [==============================] - 0s 1ms/step - loss: 131.5815 - accuracy: 0.6120\n",
      "Epoch 71/100\n",
      "30/30 [==============================] - 0s 1ms/step - loss: 165.4009 - accuracy: 0.5619\n",
      "Epoch 72/100\n",
      "30/30 [==============================] - 0s 1ms/step - loss: 169.5106 - accuracy: 0.5652\n",
      "Epoch 73/100\n",
      "30/30 [==============================] - 0s 1ms/step - loss: 148.8346 - accuracy: 0.6020\n",
      "Epoch 74/100\n",
      "30/30 [==============================] - 0s 1ms/step - loss: 170.5891 - accuracy: 0.5686\n",
      "Epoch 75/100\n",
      "30/30 [==============================] - 0s 2ms/step - loss: 167.9546 - accuracy: 0.5686\n",
      "Epoch 76/100\n",
      "30/30 [==============================] - 0s 1ms/step - loss: 146.6600 - accuracy: 0.5987\n",
      "Epoch 77/100\n",
      "30/30 [==============================] - 0s 2ms/step - loss: 156.7006 - accuracy: 0.5886\n",
      "Epoch 78/100\n",
      "30/30 [==============================] - 0s 1ms/step - loss: 181.5317 - accuracy: 0.5351\n",
      "Epoch 79/100\n",
      "30/30 [==============================] - 0s 2ms/step - loss: 130.1910 - accuracy: 0.6355\n",
      "Epoch 80/100\n",
      "30/30 [==============================] - 0s 1ms/step - loss: 196.5895 - accuracy: 0.5318\n",
      "Epoch 81/100\n",
      "30/30 [==============================] - 0s 1ms/step - loss: 154.8591 - accuracy: 0.5585\n",
      "Epoch 82/100\n",
      "30/30 [==============================] - 0s 1ms/step - loss: 168.2589 - accuracy: 0.5753\n",
      "Epoch 83/100\n",
      "30/30 [==============================] - 0s 1ms/step - loss: 158.7259 - accuracy: 0.5920\n",
      "Epoch 84/100\n",
      "30/30 [==============================] - 0s 1ms/step - loss: 153.9063 - accuracy: 0.6054\n",
      "Epoch 85/100\n",
      "30/30 [==============================] - 0s 2ms/step - loss: 133.2292 - accuracy: 0.6154\n",
      "Epoch 86/100\n",
      "30/30 [==============================] - 0s 1ms/step - loss: 186.8186 - accuracy: 0.5284\n",
      "Epoch 87/100\n",
      "30/30 [==============================] - 0s 1ms/step - loss: 154.3781 - accuracy: 0.5819\n",
      "Epoch 88/100\n",
      "30/30 [==============================] - 0s 1ms/step - loss: 173.3792 - accuracy: 0.5619\n",
      "Epoch 89/100\n",
      "30/30 [==============================] - 0s 1ms/step - loss: 147.6626 - accuracy: 0.5987\n",
      "Epoch 90/100\n",
      "30/30 [==============================] - 0s 1ms/step - loss: 170.9503 - accuracy: 0.5886\n",
      "Epoch 91/100\n",
      "30/30 [==============================] - 0s 1ms/step - loss: 152.6595 - accuracy: 0.5518\n",
      "Epoch 92/100\n",
      "30/30 [==============================] - 0s 2ms/step - loss: 156.6792 - accuracy: 0.5753\n",
      "Epoch 93/100\n",
      "30/30 [==============================] - 0s 1ms/step - loss: 170.2353 - accuracy: 0.5686\n",
      "Epoch 94/100\n",
      "30/30 [==============================] - 0s 1ms/step - loss: 163.0208 - accuracy: 0.5552\n",
      "Epoch 95/100\n",
      "30/30 [==============================] - 0s 1ms/step - loss: 145.3187 - accuracy: 0.5886\n",
      "Epoch 96/100\n",
      "30/30 [==============================] - 0s 1ms/step - loss: 160.4301 - accuracy: 0.5987\n",
      "Epoch 97/100\n",
      "30/30 [==============================] - 0s 1ms/step - loss: 142.3045 - accuracy: 0.5819\n",
      "Epoch 98/100\n",
      "30/30 [==============================] - 0s 2ms/step - loss: 174.6916 - accuracy: 0.5518\n",
      "Epoch 99/100\n",
      "30/30 [==============================] - 0s 1ms/step - loss: 130.8433 - accuracy: 0.6187\n",
      "Epoch 100/100\n",
      "30/30 [==============================] - 0s 1ms/step - loss: 147.6151 - accuracy: 0.5953\n"
     ]
    }
   ],
   "source": [
    "# fit the keras model on the dataset\n",
    "history=model.fit(X, y, epochs=100, batch_size=10)"
   ]
  },
  {
   "cell_type": "code",
   "execution_count": 11,
   "metadata": {
    "colab": {
     "base_uri": "https://localhost:8080/",
     "height": 284
    },
    "executionInfo": {
     "elapsed": 926,
     "status": "ok",
     "timestamp": 1640256261602,
     "user": {
      "displayName": "Dr. Meisam Yadollahzadeh Tabari",
      "photoUrl": "https://lh3.googleusercontent.com/a-/AOh14GhE2l4bUVfkArr-5_qSRCUTof4izvZ5WXRx3_yVNA=s64",
      "userId": "06768878936068739537"
     },
     "user_tz": -210
    },
    "id": "oMoA9KFFJLzV",
    "outputId": "e152d7a0-f48d-4545-bda1-a45864806c20"
   },
   "outputs": [
    {
     "data": {
      "text/plain": [
       "[<matplotlib.lines.Line2D at 0x7effe89ca2e0>]"
      ]
     },
     "execution_count": 11,
     "metadata": {},
     "output_type": "execute_result"
    },
    {
     "data": {
      "image/png": "[encoded data removed]",
      "text/plain": [
       "<Figure size 432x288 with 1 Axes>"
      ]
     },
     "metadata": {
      "needs_background": "light"
     },
     "output_type": "display_data"
    }
   ],
   "source": [
    "import matplotlib.pyplot as plt\n",
    "plt.figure()\n",
    "plt.plot(history.history['loss'])"
   ]
  },
  {
   "cell_type": "code",
   "execution_count": 18,
   "metadata": {
    "colab": {
     "base_uri": "https://localhost:8080/"
    },
    "executionInfo": {
     "elapsed": 846,
     "status": "ok",
     "timestamp": 1622090953654,
     "user": {
      "displayName": "Dr. Meisam Yadollahzadeh Tabari",
      "photoUrl": "https://lh3.googleusercontent.com/a-/AOh14Gh97R7MJfmdZC_4lyRT5-oJc6oeiHNtrNzcyB_n=s64",
      "userId": "06768878936068739537"
     },
     "user_tz": -270
    },
    "id": "ZMtqIfRrmniM",
    "outputId": "1f120246-599a-4946-ae9f-bfdcbd60c273"
   },
   "outputs": [
    {
     "name": "stdout",
     "output_type": "stream",
     "text": [
      "10/10 [==============================] - 0s 2ms/step - loss: 67.4717 - accuracy: 0.6856\n",
      "Accuracy: 68.56\n"
     ]
    }
   ],
   "source": [
    "# evaluate the keras model\n",
    "_, accuracy = model.evaluate(X, y)\n",
    "print('Accuracy: %.2f' % (accuracy*100))"
   ]
  },
  {
   "cell_type": "code",
   "execution_count": 19,
   "metadata": {
    "colab": {
     "base_uri": "https://localhost:8080/"
    },
    "executionInfo": {
     "elapsed": 301,
     "status": "ok",
     "timestamp": 1622091002112,
     "user": {
      "displayName": "Dr. Meisam Yadollahzadeh Tabari",
      "photoUrl": "https://lh3.googleusercontent.com/a-/AOh14Gh97R7MJfmdZC_4lyRT5-oJc6oeiHNtrNzcyB_n=s64",
      "userId": "06768878936068739537"
     },
     "user_tz": -270
    },
    "id": "3rGeTmw8yimi",
    "outputId": "61752313-c3e6-43a0-f5ee-ff210101d152"
   },
   "outputs": [
    {
     "name": "stdout",
     "output_type": "stream",
     "text": [
      "[75.0, 0.0, 582.0, 0.0, 20.0, 1.0, 265000.0, 1.9, 130.0, 1.0, 0.0, 4.0] => 0 (expected 1)\n",
      "[55.0, 0.0, 7861.0, 0.0, 38.0, 0.0, 263358.03, 1.1, 136.0, 1.0, 0.0, 6.0] => 1 (expected 1)\n",
      "[65.0, 0.0, 146.0, 0.0, 20.0, 0.0, 162000.0, 1.3, 129.0, 1.0, 1.0, 7.0] => 0 (expected 1)\n",
      "[50.0, 1.0, 111.0, 0.0, 20.0, 0.0, 210000.0, 1.9, 137.0, 1.0, 0.0, 7.0] => 0 (expected 1)\n",
      "[65.0, 1.0, 160.0, 1.0, 20.0, 0.0, 327000.0, 2.7, 116.0, 0.0, 0.0, 8.0] => 0 (expected 1)\n",
      "[90.0, 1.0, 47.0, 0.0, 40.0, 1.0, 204000.0, 2.1, 132.0, 1.0, 1.0, 8.0] => 0 (expected 1)\n",
      "[75.0, 1.0, 246.0, 0.0, 15.0, 0.0, 127000.0, 1.2, 137.0, 1.0, 0.0, 10.0] => 0 (expected 1)\n",
      "[60.0, 1.0, 315.0, 1.0, 60.0, 0.0, 454000.0, 1.1, 131.0, 1.0, 1.0, 10.0] => 0 (expected 1)\n",
      "[65.0, 0.0, 157.0, 0.0, 65.0, 0.0, 263358.03, 1.5, 138.0, 0.0, 0.0, 10.0] => 0 (expected 1)\n",
      "[80.0, 1.0, 123.0, 0.0, 35.0, 1.0, 388000.0, 9.4, 133.0, 1.0, 1.0, 10.0] => 0 (expected 1)\n"
     ]
    }
   ],
   "source": [
    "predictions = model.predict(X)\n",
    "# summarize the first 5 cases\n",
    "for i in range(10):\n",
    "    print('%s => %d (expected %d)' % (X[i].tolist(), predictions[i], y[i]))"
   ]
  },
  {
   "cell_type": "code",
   "execution_count": 20,
   "metadata": {
    "colab": {
     "base_uri": "https://localhost:8080/",
     "height": 1000
    },
    "executionInfo": {
     "elapsed": 42129,
     "status": "ok",
     "timestamp": 1640256759177,
     "user": {
      "displayName": "Dr. Meisam Yadollahzadeh Tabari",
      "photoUrl": "https://lh3.googleusercontent.com/a-/AOh14GhE2l4bUVfkArr-5_qSRCUTof4izvZ5WXRx3_yVNA=s64",
      "userId": "06768878936068739537"
     },
     "user_tz": -210
    },
    "id": "UMYa2vXyg8pE",
    "outputId": "e3ea0954-8505-4f61-c9bb-e99b9b6a951a"
   },
   "outputs": [
    {
     "name": "stdout",
     "output_type": "stream",
     "text": [
      "Epoch 1/100\n",
      "22/24 [==========================>...] - ETA: 0s - loss: 142.8480 - accuracy: 0.6091\n",
      "Epoch 00001: val_accuracy improved from -inf to 0.95000, saving model to best_model.h5\n",
      "24/24 [==============================] - 1s 12ms/step - loss: 149.0356 - accuracy: 0.5941 - val_loss: 28.4896 - val_accuracy: 0.9500\n",
      "Epoch 2/100\n",
      " 1/24 [>.............................] - ETA: 0s - loss: 105.1551 - accuracy: 0.7000\n",
      "Epoch 00002: val_accuracy did not improve from 0.95000\n",
      "24/24 [==============================] - 0s 3ms/step - loss: 189.0345 - accuracy: 0.4937 - val_loss: 30.0159 - val_accuracy: 0.3500\n",
      "Epoch 3/100\n",
      " 1/24 [>.............................] - ETA: 0s - loss: 53.1984 - accuracy: 0.4000\n",
      "Epoch 00003: val_accuracy did not improve from 0.95000\n",
      "24/24 [==============================] - 0s 4ms/step - loss: 160.6834 - accuracy: 0.5063 - val_loss: 55.9816 - val_accuracy: 0.9500\n",
      "Epoch 4/100\n",
      "23/24 [===========================>..] - ETA: 0s - loss: 178.3103 - accuracy: 0.5609\n",
      "Epoch 00004: val_accuracy did not improve from 0.95000\n",
      "24/24 [==============================] - 0s 5ms/step - loss: 174.2286 - accuracy: 0.5690 - val_loss: 11.8889 - val_accuracy: 0.9500\n",
      "Epoch 5/100\n",
      "15/24 [=================>............] - ETA: 0s - loss: 205.0045 - accuracy: 0.4933\n",
      "Epoch 00005: val_accuracy did not improve from 0.95000\n",
      "24/24 [==============================] - 0s 6ms/step - loss: 174.3659 - accuracy: 0.5146 - val_loss: 20.6686 - val_accuracy: 0.9500\n",
      "Epoch 6/100\n",
      " 1/24 [>.............................] - ETA: 0s - loss: 162.1806 - accuracy: 0.6000\n",
      "Epoch 00006: val_accuracy did not improve from 0.95000\n",
      "24/24 [==============================] - 0s 3ms/step - loss: 181.9165 - accuracy: 0.5105 - val_loss: 17.9280 - val_accuracy: 0.5000\n",
      "Epoch 7/100\n",
      " 1/24 [>.............................] - ETA: 0s - loss: 34.4704 - accuracy: 0.5000\n",
      "Epoch 00007: val_accuracy did not improve from 0.95000\n",
      "24/24 [==============================] - 0s 5ms/step - loss: 161.5295 - accuracy: 0.5481 - val_loss: 108.1473 - val_accuracy: 0.1333\n",
      "Epoch 8/100\n",
      " 1/24 [>.............................] - ETA: 0s - loss: 116.7673 - accuracy: 0.3000\n",
      "Epoch 00008: val_accuracy did not improve from 0.95000\n",
      "24/24 [==============================] - 0s 3ms/step - loss: 182.1519 - accuracy: 0.4686 - val_loss: 221.9270 - val_accuracy: 0.0833\n",
      "Epoch 9/100\n",
      " 1/24 [>.............................] - ETA: 0s - loss: 55.3190 - accuracy: 0.8000\n",
      "Epoch 00009: val_accuracy did not improve from 0.95000\n",
      "24/24 [==============================] - 0s 3ms/step - loss: 148.5896 - accuracy: 0.5732 - val_loss: 33.5390 - val_accuracy: 0.9500\n",
      "Epoch 10/100\n",
      " 1/24 [>.............................] - ETA: 0s - loss: 184.5725 - accuracy: 0.6000\n",
      "Epoch 00010: val_accuracy did not improve from 0.95000\n",
      "24/24 [==============================] - 0s 4ms/step - loss: 168.8240 - accuracy: 0.5188 - val_loss: 34.7841 - val_accuracy: 0.9500\n",
      "Epoch 11/100\n",
      "23/24 [===========================>..] - ETA: 0s - loss: 161.6026 - accuracy: 0.5522\n",
      "Epoch 00011: val_accuracy did not improve from 0.95000\n",
      "24/24 [==============================] - 0s 4ms/step - loss: 156.5094 - accuracy: 0.5439 - val_loss: 26.0686 - val_accuracy: 0.9500\n",
      "Epoch 12/100\n",
      " 1/24 [>.............................] - ETA: 0s - loss: 141.5305 - accuracy: 0.7000\n",
      "Epoch 00012: val_accuracy did not improve from 0.95000\n",
      "24/24 [==============================] - 0s 2ms/step - loss: 152.9819 - accuracy: 0.5356 - val_loss: 25.2498 - val_accuracy: 0.9500\n",
      "Epoch 13/100\n",
      " 1/24 [>.............................] - ETA: 0s - loss: 168.1136 - accuracy: 0.6000\n",
      "Epoch 00013: val_accuracy did not improve from 0.95000\n",
      "24/24 [==============================] - 0s 4ms/step - loss: 213.5551 - accuracy: 0.4770 - val_loss: 96.9326 - val_accuracy: 0.1667\n",
      "Epoch 14/100\n",
      " 1/24 [>.............................] - ETA: 0s - loss: 110.3915 - accuracy: 0.3000\n",
      "Epoch 00014: val_accuracy did not improve from 0.95000\n",
      "24/24 [==============================] - 0s 4ms/step - loss: 157.6534 - accuracy: 0.5272 - val_loss: 541.1776 - val_accuracy: 0.0667\n",
      "Epoch 15/100\n",
      " 1/24 [>.............................] - ETA: 0s - loss: 569.9639 - accuracy: 0.2000\n",
      "Epoch 00015: val_accuracy did not improve from 0.95000\n",
      "24/24 [==============================] - 0s 3ms/step - loss: 176.5071 - accuracy: 0.4895 - val_loss: 46.1436 - val_accuracy: 0.9500\n",
      "Epoch 16/100\n",
      " 1/24 [>.............................] - ETA: 0s - loss: 523.9603 - accuracy: 0.4000\n",
      "Epoch 00016: val_accuracy did not improve from 0.95000\n",
      "24/24 [==============================] - 0s 3ms/step - loss: 164.1010 - accuracy: 0.5230 - val_loss: 53.1525 - val_accuracy: 0.2333\n",
      "Epoch 17/100\n",
      " 1/24 [>.............................] - ETA: 0s - loss: 97.7120 - accuracy: 0.3000\n",
      "Epoch 00017: val_accuracy did not improve from 0.95000\n",
      "24/24 [==============================] - 0s 3ms/step - loss: 152.2724 - accuracy: 0.5523 - val_loss: 102.1328 - val_accuracy: 0.1667\n",
      "Epoch 18/100\n",
      " 1/24 [>.............................] - ETA: 0s - loss: 107.8374 - accuracy: 0.4000\n",
      "Epoch 00018: val_accuracy did not improve from 0.95000\n",
      "24/24 [==============================] - 0s 3ms/step - loss: 163.2473 - accuracy: 0.5146 - val_loss: 20.5015 - val_accuracy: 0.9500\n",
      "Epoch 19/100\n",
      " 1/24 [>.............................] - ETA: 0s - loss: 110.5343 - accuracy: 0.6000\n",
      "Epoch 00019: val_accuracy did not improve from 0.95000\n",
      "24/24 [==============================] - 0s 3ms/step - loss: 129.6335 - accuracy: 0.5858 - val_loss: 25.6998 - val_accuracy: 0.9500\n",
      "Epoch 20/100\n",
      " 1/24 [>.............................] - ETA: 0s - loss: 179.3102 - accuracy: 0.6000\n",
      "Epoch 00020: val_accuracy did not improve from 0.95000\n",
      "24/24 [==============================] - 0s 3ms/step - loss: 159.7994 - accuracy: 0.5481 - val_loss: 26.4506 - val_accuracy: 0.9500\n",
      "Epoch 21/100\n",
      " 1/24 [>.............................] - ETA: 0s - loss: 164.3315 - accuracy: 0.6000\n",
      "Epoch 00021: val_accuracy did not improve from 0.95000\n",
      "24/24 [==============================] - 0s 2ms/step - loss: 140.4435 - accuracy: 0.5858 - val_loss: 41.9236 - val_accuracy: 0.3000\n",
      "Epoch 22/100\n",
      " 1/24 [>.............................] - ETA: 0s - loss: 100.2752 - accuracy: 0.1000\n",
      "Epoch 00022: val_accuracy did not improve from 0.95000\n",
      "24/24 [==============================] - 0s 3ms/step - loss: 142.1678 - accuracy: 0.5690 - val_loss: 30.4538 - val_accuracy: 0.3833\n",
      "Epoch 23/100\n",
      " 1/24 [>.............................] - ETA: 0s - loss: 33.2247 - accuracy: 0.7000\n",
      "Epoch 00023: val_accuracy did not improve from 0.95000\n",
      "24/24 [==============================] - 0s 3ms/step - loss: 151.7715 - accuracy: 0.5607 - val_loss: 5.6877 - val_accuracy: 0.9500\n",
      "Epoch 24/100\n",
      " 1/24 [>.............................] - ETA: 0s - loss: 14.1453 - accuracy: 0.6000\n",
      "Epoch 00024: val_accuracy did not improve from 0.95000\n",
      "24/24 [==============================] - 0s 3ms/step - loss: 171.6319 - accuracy: 0.5063 - val_loss: 494.4558 - val_accuracy: 0.0667\n",
      "Epoch 25/100\n",
      " 1/24 [>.............................] - ETA: 0s - loss: 388.5874 - accuracy: 0.3000\n",
      "Epoch 00025: val_accuracy did not improve from 0.95000\n",
      "24/24 [==============================] - 0s 3ms/step - loss: 158.7295 - accuracy: 0.5105 - val_loss: 287.1259 - val_accuracy: 0.0833\n",
      "Epoch 26/100\n",
      " 1/24 [>.............................] - ETA: 0s - loss: 164.1909 - accuracy: 0.6000\n",
      "Epoch 00026: val_accuracy did not improve from 0.95000\n",
      "24/24 [==============================] - 0s 3ms/step - loss: 160.5793 - accuracy: 0.5021 - val_loss: 55.4937 - val_accuracy: 0.9500\n",
      "Epoch 27/100\n",
      "22/24 [==========================>...] - ETA: 0s - loss: 147.4219 - accuracy: 0.6000  \n",
      "Epoch 00027: val_accuracy did not improve from 0.95000\n",
      "24/24 [==============================] - 0s 4ms/step - loss: 142.4528 - accuracy: 0.6025 - val_loss: 41.3530 - val_accuracy: 0.9500\n",
      "Epoch 28/100\n",
      " 1/24 [>.............................] - ETA: 0s - loss: 132.6533 - accuracy: 0.8000\n",
      "Epoch 00028: val_accuracy did not improve from 0.95000\n",
      "24/24 [==============================] - 0s 5ms/step - loss: 162.5179 - accuracy: 0.5481 - val_loss: 17.4368 - val_accuracy: 0.9500\n",
      "Epoch 29/100\n",
      " 1/24 [>.............................] - ETA: 0s - loss: 104.9386 - accuracy: 0.5000\n",
      "Epoch 00029: val_accuracy did not improve from 0.95000\n",
      "24/24 [==============================] - 0s 3ms/step - loss: 156.3677 - accuracy: 0.5565 - val_loss: 25.0638 - val_accuracy: 0.9500\n",
      "Epoch 30/100\n",
      " 1/24 [>.............................] - ETA: 0s - loss: 190.1703 - accuracy: 0.6000\n",
      "Epoch 00030: val_accuracy did not improve from 0.95000\n",
      "24/24 [==============================] - 0s 3ms/step - loss: 140.3027 - accuracy: 0.5690 - val_loss: 46.8724 - val_accuracy: 0.9500\n",
      "Epoch 31/100\n",
      " 1/24 [>.............................] - ETA: 0s - loss: 189.5354 - accuracy: 0.7000\n",
      "Epoch 00031: val_accuracy did not improve from 0.95000\n",
      "24/24 [==============================] - 0s 3ms/step - loss: 197.0455 - accuracy: 0.4895 - val_loss: 21.8800 - val_accuracy: 0.9500\n",
      "Epoch 32/100\n",
      " 1/24 [>.............................] - ETA: 0s - loss: 114.6468 - accuracy: 0.7000\n",
      "Epoch 00032: val_accuracy did not improve from 0.95000\n",
      "24/24 [==============================] - 0s 3ms/step - loss: 162.9769 - accuracy: 0.5146 - val_loss: 42.4753 - val_accuracy: 0.9500\n",
      "Epoch 33/100\n",
      " 1/24 [>.............................] - ETA: 0s - loss: 324.0076 - accuracy: 0.5000\n",
      "Epoch 00033: val_accuracy did not improve from 0.95000\n",
      "24/24 [==============================] - 0s 3ms/step - loss: 173.0828 - accuracy: 0.5188 - val_loss: 18.2314 - val_accuracy: 0.9500\n",
      "Epoch 34/100\n",
      " 1/24 [>.............................] - ETA: 0s - loss: 99.6839 - accuracy: 0.7000\n",
      "Epoch 00034: val_accuracy did not improve from 0.95000\n",
      "24/24 [==============================] - 0s 3ms/step - loss: 157.5645 - accuracy: 0.5105 - val_loss: 33.2185 - val_accuracy: 0.9500\n",
      "Epoch 35/100\n",
      " 1/24 [>.............................] - ETA: 0s - loss: 219.5455 - accuracy: 0.6000\n",
      "Epoch 00035: val_accuracy did not improve from 0.95000\n",
      "24/24 [==============================] - 0s 3ms/step - loss: 165.6097 - accuracy: 0.5272 - val_loss: 31.7714 - val_accuracy: 0.9500\n",
      "Epoch 36/100\n",
      " 1/24 [>.............................] - ETA: 0s - loss: 52.2720 - accuracy: 0.9000\n",
      "Epoch 00036: val_accuracy did not improve from 0.95000\n",
      "24/24 [==============================] - 0s 3ms/step - loss: 95.3625 - accuracy: 0.6318 - val_loss: 44.9151 - val_accuracy: 0.9500\n",
      "Epoch 37/100\n",
      " 1/24 [>.............................] - ETA: 0s - loss: 194.4931 - accuracy: 0.7000\n",
      "Epoch 00037: val_accuracy did not improve from 0.95000\n",
      "24/24 [==============================] - 0s 3ms/step - loss: 166.5638 - accuracy: 0.5607 - val_loss: 32.2379 - val_accuracy: 0.9500\n",
      "Epoch 38/100\n",
      "22/24 [==========================>...] - ETA: 0s - loss: 133.0485 - accuracy: 0.6182\n",
      "Epoch 00038: val_accuracy did not improve from 0.95000\n",
      "24/24 [==============================] - 0s 5ms/step - loss: 130.6310 - accuracy: 0.6109 - val_loss: 24.4611 - val_accuracy: 0.9500\n",
      "Epoch 39/100\n",
      " 1/24 [>.............................] - ETA: 0s - loss: 147.1577 - accuracy: 0.7000\n",
      "Epoch 00039: val_accuracy did not improve from 0.95000\n",
      "24/24 [==============================] - 0s 3ms/step - loss: 159.0725 - accuracy: 0.5649 - val_loss: 36.3929 - val_accuracy: 0.9500\n",
      "Epoch 40/100\n",
      " 1/24 [>.............................] - ETA: 0s - loss: 330.0839 - accuracy: 0.6000\n",
      "Epoch 00040: val_accuracy did not improve from 0.95000\n",
      "24/24 [==============================] - 0s 3ms/step - loss: 145.6710 - accuracy: 0.5816 - val_loss: 37.1925 - val_accuracy: 0.9500\n",
      "Epoch 41/100\n",
      " 1/24 [>.............................] - ETA: 0s - loss: 99.9872 - accuracy: 0.8000\n",
      "Epoch 00041: val_accuracy did not improve from 0.95000\n",
      "24/24 [==============================] - 0s 3ms/step - loss: 171.0092 - accuracy: 0.5063 - val_loss: 36.3248 - val_accuracy: 0.9500\n",
      "Epoch 42/100\n",
      "21/24 [=========================>....] - ETA: 0s - loss: 146.6190 - accuracy: 0.5429\n",
      "Epoch 00042: val_accuracy did not improve from 0.95000\n",
      "24/24 [==============================] - 0s 4ms/step - loss: 151.3472 - accuracy: 0.5523 - val_loss: 195.0654 - val_accuracy: 0.0833\n",
      "Epoch 43/100\n",
      " 1/24 [>.............................] - ETA: 0s - loss: 172.7880 - accuracy: 0.2000\n",
      "Epoch 00043: val_accuracy did not improve from 0.95000\n",
      "24/24 [==============================] - 0s 4ms/step - loss: 150.6771 - accuracy: 0.5356 - val_loss: 6.1308 - val_accuracy: 0.9500\n",
      "Epoch 00043: early stopping\n"
     ]
    },
    {
     "data": {
      "text/plain": [
       "<matplotlib.legend.Legend at 0x7effe82e9a30>"
      ]
     },
     "execution_count": 20,
     "metadata": {},
     "output_type": "execute_result"
    },
    {
     "data": {
      "image/png": "[encoded data removed]",
      "text/plain": [
       "<Figure size 432x288 with 1 Axes>"
      ]
     },
     "metadata": {
      "needs_background": "light"
     },
     "output_type": "display_data"
    },
    {
     "data": {
      "image/png": "[encoded data removed]",
      "text/plain": [
       "<Figure size 432x288 with 1 Axes>"
      ]
     },
     "metadata": {
      "needs_background": "light"
     },
     "output_type": "display_data"
    }
   ],
   "source": [
    "import matplotlib.pyplot as plt\n",
    "from keras.callbacks import EarlyStopping\n",
    "from keras.callbacks import ModelCheckpoint\n",
    "es = EarlyStopping(monitor='val_loss', mode='min', verbose=1, patience=20)\n",
    "mc = ModelCheckpoint('best_model.h5', monitor='val_accuracy', mode='max', verbose=1, save_best_only=True)\n",
    "history=model.fit(X, y, epochs=100, batch_size=10, verbose=1, validation_split=0.2,callbacks=[mc,es]) #validation_data=[test_x, test_y]\n",
    "plt.plot(history.history['loss'])\n",
    "plt.plot(history.history['val_loss'])\n",
    "plt.legend(['loss','val_loss'], loc='upper right')\n",
    "plt.figure()\n",
    "plt.plot(history.history['accuracy'])\n",
    "plt.plot(history.history['val_accuracy'])\n",
    "plt.legend(['acc','val_acc'], loc='upper right')"
   ]
  },
  {
   "cell_type": "code",
   "execution_count": 21,
   "metadata": {
    "colab": {
     "base_uri": "https://localhost:8080/"
    },
    "executionInfo": {
     "elapsed": 470,
     "status": "ok",
     "timestamp": 1640256942448,
     "user": {
      "displayName": "Dr. Meisam Yadollahzadeh Tabari",
      "photoUrl": "https://lh3.googleusercontent.com/a-/AOh14GhE2l4bUVfkArr-5_qSRCUTof4izvZ5WXRx3_yVNA=s64",
      "userId": "06768878936068739537"
     },
     "user_tz": -210
    },
    "id": "YGhpM4FKmQEI",
    "outputId": "45fd925e-69df-44eb-a1dc-1b48ea95db4c"
   },
   "outputs": [
    {
     "name": "stdout",
     "output_type": "stream",
     "text": [
      "10/10 [==============================] - 0s 2ms/step - loss: 156.1575 - accuracy: 0.6789\n",
      "Accuracy: 67.89\n",
      "[75.0, 0.0, 582.0, 0.0, 20.0, 1.0, 265000.0, 1.9, 130.0, 1.0, 0.0, 4.0] => 0 (expected 1)\n",
      "[55.0, 0.0, 7861.0, 0.0, 38.0, 0.0, 263358.03, 1.1, 136.0, 1.0, 0.0, 6.0] => 0 (expected 1)\n",
      "[65.0, 0.0, 146.0, 0.0, 20.0, 0.0, 162000.0, 1.3, 129.0, 1.0, 1.0, 7.0] => 0 (expected 1)\n",
      "[50.0, 1.0, 111.0, 0.0, 20.0, 0.0, 210000.0, 1.9, 137.0, 1.0, 0.0, 7.0] => 0 (expected 1)\n",
      "[65.0, 1.0, 160.0, 1.0, 20.0, 0.0, 327000.0, 2.7, 116.0, 0.0, 0.0, 8.0] => 0 (expected 1)\n"
     ]
    }
   ],
   "source": [
    "model=load_model('best_model.h5')\n",
    "_, accuracy = model.evaluate(X, y)\n",
    "print('Accuracy: %.2f' % (accuracy*100))\n",
    "predictions = model.predict(X)\n",
    "# summarize the first 5 cases\n",
    "for i in range(5):\n",
    "\tprint('%s => %d (expected %d)' % (X[i].tolist(), predictions[i], y[i]))"
   ]
  },
  {
   "cell_type": "code",
   "execution_count": null,
   "metadata": {},
   "outputs": [],
   "source": []
  }
 ],
 "metadata": {
  "colab": {
   "collapsed_sections": [],
   "name": "pima.ipynb",
   "provenance": []
  },
  "kernelspec": {
   "display_name": "default:Python",
   "language": "python",
   "name": "conda-env-default-py"
  },
  "language_info": {
   "codemirror_mode": {
    "name": "ipython",
    "version": 3
   },
   "file_extension": ".py",
   "mimetype": "text/x-python",
   "name": "python",
   "nbconvert_exporter": "python",
   "pygments_lexer": "ipython3",
   "version": "3.9.7"
  },
  "toc-showmarkdowntxt": true
 },
 "nbformat": 4,
 "nbformat_minor": 4
}

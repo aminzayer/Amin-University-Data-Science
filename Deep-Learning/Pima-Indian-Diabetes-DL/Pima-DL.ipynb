{
 "cells": [
  {
   "cell_type": "code",
   "execution_count": 32,
   "metadata": {
    "executionInfo": {
     "elapsed": 3450,
     "status": "ok",
     "timestamp": 1640255304549,
     "user": {
      "displayName": "Amin Zayeromali",
      "photoUrl": "https://lh3.googleusercontent.com/ogw/ADea4I4IMIs6yAF29vMqlGr8ckuLSkbFqeSBOgQ7A0IsNw=s64",
      "userId": "4vmuuoFzvRYp"
     },
     "user_tz": -210
    },
    "id": "yg-wSXu8lnBX"
   },
   "outputs": [],
   "source": [
    "# first neural network with keras tutorial\n",
    "from numpy import loadtxt\n",
    "from pandas import read_csv\n",
    "#from pandas import read_\n",
    "from keras.models import Sequential\n",
    "from keras.layers import Dense\n",
    "from keras.utils.vis_utils import plot_model\n",
    "from keras.models import Model,load_model"
   ]
  },
  {
   "cell_type": "code",
   "execution_count": 33,
   "metadata": {
    "executionInfo": {
     "elapsed": 640,
     "status": "ok",
     "timestamp": 1640255306820,
     "user": {
      "displayName": "Amin Zayeromali",
      "photoUrl": "https://lh3.googleusercontent.com/ogw/ADea4I4IMIs6yAF29vMqlGr8ckuLSkbFqeSBOgQ7A0IsNw=s64",
      "userId": "4vmuuoFzvRYp"
     },
     "user_tz": -210
    },
    "id": "gXEIzyhEmbhX"
   },
   "outputs": [],
   "source": [
    "# load the dataset\n",
    "dataset = loadtxt('pima-indians-diabetes.data.txt', delimiter=',')\n",
    "# split into input (X) and output (y) variables\n",
    "X = dataset[:,0:8]\n",
    "y = dataset[:,8]"
   ]
  },
  {
   "cell_type": "code",
   "execution_count": 34,
   "metadata": {
    "colab": {
     "base_uri": "https://localhost:8080/"
    },
    "executionInfo": {
     "elapsed": 452,
     "status": "ok",
     "timestamp": 1640255312272,
     "user": {
      "displayName": "Amin Zayeromali",
      "photoUrl": "https://lh3.googleusercontent.com/ogw/ADea4I4IMIs6yAF29vMqlGr8ckuLSkbFqeSBOgQ7A0IsNw=s64",
      "userId": "4vmuuoFzvRYp"
     },
     "user_tz": -210
    },
    "id": "vxhT02DDcc68",
    "outputId": "fde7e7e6-9c3d-4ab5-d93a-4f5066376e10"
   },
   "outputs": [
    {
     "name": "stdout",
     "output_type": "stream",
     "text": [
      "(768, 8)\n",
      "(768,)\n",
      "<class 'numpy.ndarray'>\n"
     ]
    }
   ],
   "source": [
    "print(X.shape)\n",
    "print(y.shape)\n",
    "print(type(X))"
   ]
  },
  {
   "cell_type": "code",
   "execution_count": 35,
   "metadata": {
    "colab": {
     "base_uri": "https://localhost:8080/"
    },
    "executionInfo": {
     "elapsed": 1000,
     "status": "ok",
     "timestamp": 1610868654390,
     "user": {
      "displayName": "alireza ghomi",
      "photoUrl": "https://lh3.googleusercontent.com/a-/AOh14GgyTqtLycBqi8U4EklGaJhIyqpoj_7du0RotuqQ=s64",
      "userId": "07280400516243780047"
     },
     "user_tz": 480
    },
    "id": "uwW-4YW7HBvA",
    "outputId": "f6246f45-0cf2-4784-8e4c-85c2e7ff3a7c"
   },
   "outputs": [
    {
     "name": "stdout",
     "output_type": "stream",
     "text": [
      "[1. 0. 1. 0. 1. 0. 1. 0. 1. 1. 0. 1. 0. 1. 1. 1. 1. 1. 0. 1. 0. 0. 1. 1.\n",
      " 1. 1. 1. 0. 0. 0. 0. 1. 0. 0. 0. 0. 0. 1. 1. 1. 0. 0. 0. 1. 0. 1. 0. 0.\n",
      " 1. 0. 0. 0. 0. 1. 0. 0. 1. 0. 0. 0. 0. 1. 0. 0. 1. 0. 1. 0. 0. 0. 1. 0.\n",
      " 1. 0. 0. 0. 0. 0. 1. 0. 0. 0. 0. 0. 1. 0. 0. 0. 1. 0. 0. 0. 0. 1. 0. 0.\n",
      " 0. 0. 0. 1. 1. 0. 0. 0. 0. 0. 0. 0. 0. 1. 1. 1. 0. 0. 1. 1. 1. 0. 0. 0.\n",
      " 1. 0. 0. 0. 1. 1. 0. 0. 1. 1. 1. 1. 1. 0. 0. 0. 0. 0. 0. 0. 0. 0. 0. 1.\n",
      " 0. 0. 0. 0. 0. 0. 0. 0. 1. 0. 1. 1. 0. 0. 0. 1. 0. 0. 0. 0. 1. 1. 0. 0.\n",
      " 0. 0. 1. 1. 0. 0. 0. 1. 0. 1. 0. 1. 0. 0. 0. 0. 0. 1. 1. 1. 1. 1. 0. 0.\n",
      " 1. 1. 0. 1. 0. 1. 1. 1. 0. 0. 0. 0. 0. 0. 1. 1. 0. 1. 0. 0. 0. 1. 1. 1.\n",
      " 1. 0. 1. 1. 1. 1. 0. 0. 0. 0. 0. 1. 0. 0. 1. 1. 0. 0. 0. 1. 1. 1. 1. 0.\n",
      " 0. 0. 1. 1. 0. 1. 0. 0. 0. 0. 0. 0. 0. 0. 1. 1. 0. 0. 0. 1. 0. 1. 0. 0.\n",
      " 1. 0. 1. 0. 0. 1. 1. 0. 0. 0. 0. 0. 1. 0. 0. 0. 1. 0. 0. 1. 1. 0. 0. 1.\n",
      " 0. 0. 0. 1. 1. 1. 0. 0. 1. 0. 1. 0. 1. 1. 0. 1. 0. 0. 1. 0. 1. 1. 0. 0.\n",
      " 1. 0. 1. 0. 0. 1. 0. 1. 0. 1. 1. 1. 0. 0. 1. 0. 1. 0. 0. 0. 1. 0. 0. 0.\n",
      " 0. 1. 1. 1. 0. 0. 0. 0. 0. 0. 0. 0. 0. 1. 0. 0. 0. 0. 0. 1. 1. 1. 0. 1.\n",
      " 1. 0. 0. 1. 0. 0. 1. 0. 0. 1. 1. 0. 0. 0. 0. 1. 0. 0. 1. 0. 0. 0. 0. 0.\n",
      " 0. 0. 1. 1. 1. 0. 0. 1. 0. 0. 1. 0. 0. 1. 0. 1. 1. 0. 1. 0. 1. 0. 1. 0.\n",
      " 1. 1. 0. 0. 0. 0. 1. 1. 0. 1. 0. 1. 0. 0. 0. 0. 1. 1. 0. 1. 0. 1. 0. 0.\n",
      " 0. 0. 0. 1. 0. 0. 0. 0. 1. 0. 0. 1. 1. 1. 0. 0. 1. 0. 0. 1. 0. 0. 0. 1.\n",
      " 0. 0. 1. 0. 0. 0. 0. 0. 0. 0. 0. 0. 1. 0. 0. 0. 0. 0. 0. 0. 1. 0. 0. 0.\n",
      " 1. 0. 0. 0. 1. 1. 0. 0. 0. 0. 0. 0. 0. 1. 0. 0. 0. 0. 1. 0. 0. 0. 1. 0.\n",
      " 0. 0. 1. 0. 0. 0. 1. 0. 0. 0. 0. 1. 1. 0. 0. 0. 0. 0. 0. 1. 0. 0. 0. 0.\n",
      " 0. 0. 0. 0. 0. 0. 0. 1. 0. 0. 0. 1. 1. 1. 1. 0. 0. 1. 1. 0. 0. 0. 0. 0.\n",
      " 0. 0. 0. 0. 0. 0. 0. 0. 1. 1. 0. 0. 0. 0. 0. 0. 0. 1. 0. 0. 0. 0. 0. 0.\n",
      " 0. 1. 0. 1. 1. 0. 0. 0. 1. 0. 1. 0. 1. 0. 1. 0. 1. 0. 0. 1. 0. 0. 1. 0.\n",
      " 0. 0. 0. 1. 1. 0. 1. 0. 0. 0. 0. 1. 1. 0. 1. 0. 0. 0. 1. 1. 0. 0. 0. 0.\n",
      " 0. 0. 0. 0. 0. 0. 1. 0. 0. 0. 0. 1. 0. 0. 1. 0. 0. 0. 1. 0. 0. 0. 1. 1.\n",
      " 1. 0. 0. 0. 0. 0. 0. 1. 0. 0. 0. 1. 0. 1. 1. 1. 1. 0. 1. 1. 0. 0. 0. 0.\n",
      " 0. 0. 0. 1. 1. 0. 1. 0. 0. 1. 0. 1. 0. 0. 0. 0. 0. 1. 0. 1. 0. 1. 0. 1.\n",
      " 1. 0. 0. 0. 0. 1. 1. 0. 0. 0. 1. 0. 1. 1. 0. 0. 1. 0. 0. 1. 1. 0. 0. 1.\n",
      " 0. 0. 1. 0. 0. 0. 0. 0. 0. 0. 1. 1. 1. 0. 0. 0. 0. 0. 0. 1. 1. 0. 0. 1.\n",
      " 0. 0. 1. 0. 1. 1. 1. 0. 0. 1. 1. 1. 0. 1. 0. 1. 0. 1. 0. 0. 0. 0. 1. 0.]\n"
     ]
    }
   ],
   "source": [
    "print(y)"
   ]
  },
  {
   "cell_type": "code",
   "execution_count": 36,
   "metadata": {
    "colab": {
     "base_uri": "https://localhost:8080/",
     "height": 568
    },
    "executionInfo": {
     "elapsed": 623,
     "status": "ok",
     "timestamp": 1640256708545,
     "user": {
      "displayName": "Amin Zayeromali",
      "photoUrl": "https://lh3.googleusercontent.com/ogw/ADea4I4IMIs6yAF29vMqlGr8ckuLSkbFqeSBOgQ7A0IsNw=s64",
      "userId": "4vmuuoFzvRYp"
     },
     "user_tz": -210
    },
    "id": "yvgDCNV8mduc",
    "outputId": "3faa9212-db86-4397-9580-04792cc0278f"
   },
   "outputs": [
    {
     "name": "stdout",
     "output_type": "stream",
     "text": [
      "Model: \"sequential_2\"\n",
      "_________________________________________________________________\n",
      " Layer (type)                Output Shape              Param #   \n",
      "=================================================================\n",
      " dense_4 (Dense)             (None, 12)                108       \n",
      "                                                                 \n",
      " dense_5 (Dense)             (None, 8)                 104       \n",
      "                                                                 \n",
      " dense_6 (Dense)             (None, 1)                 9         \n",
      "                                                                 \n",
      "=================================================================\n",
      "Total params: 221\n",
      "Trainable params: 221\n",
      "Non-trainable params: 0\n",
      "_________________________________________________________________\n",
      "None\n",
      "('You must install pydot (`pip install pydot`) and install graphviz (see instructions at https://graphviz.gitlab.io/download/) ', 'for plot_model/model_to_dot to work.')\n"
     ]
    }
   ],
   "source": [
    "# define the keras model\n",
    "model = Sequential()\n",
    "model.add(Dense(12, input_dim=8, activation='relu'))\n",
    "model.add(Dense(8, activation='relu'))\n",
    "model.add(Dense(1, activation='sigmoid'))\n",
    "# compile the keras model\n",
    "#from keral.optimizer import adam\n",
    "model.compile(loss='binary_crossentropy', optimizer='RMSProp' , metrics=['accuracy'])#categorical_crossentropy\n",
    "print(model.summary())\n",
    "plot_model(model, show_shapes=True, to_file='model1.png')"
   ]
  },
  {
   "cell_type": "markdown",
   "metadata": {
    "id": "5XuFQi5xgW8y"
   },
   "source": [
    "param_number = output_channel_number * (input_channel_number + 1)"
   ]
  },
  {
   "cell_type": "code",
   "execution_count": 37,
   "metadata": {
    "colab": {
     "base_uri": "https://localhost:8080/"
    },
    "executionInfo": {
     "elapsed": 42308,
     "status": "ok",
     "timestamp": 1640256259156,
     "user": {
      "displayName": "Amin Zayeromali",
      "photoUrl": "https://lh3.googleusercontent.com/ogw/ADea4I4IMIs6yAF29vMqlGr8ckuLSkbFqeSBOgQ7A0IsNw=s64",
      "userId": "4vmuuoFzvRYp"
     },
     "user_tz": -210
    },
    "id": "I4Ipu_ivmd2h",
    "outputId": "32df85bb-f984-46cd-c26a-f0e0e43be91d"
   },
   "outputs": [
    {
     "name": "stdout",
     "output_type": "stream",
     "text": [
      "Epoch 1/100\n",
      "77/77 [==============================] - 1s 2ms/step - loss: 4.2658 - accuracy: 0.4961\n",
      "Epoch 2/100\n",
      "77/77 [==============================] - 0s 2ms/step - loss: 1.2617 - accuracy: 0.6042\n",
      "Epoch 3/100\n",
      "77/77 [==============================] - 0s 2ms/step - loss: 1.0177 - accuracy: 0.6393\n",
      "Epoch 4/100\n",
      "77/77 [==============================] - 0s 2ms/step - loss: 0.9136 - accuracy: 0.6562\n",
      "Epoch 5/100\n",
      "77/77 [==============================] - 0s 1ms/step - loss: 0.8757 - accuracy: 0.6406\n",
      "Epoch 6/100\n",
      "77/77 [==============================] - 0s 1ms/step - loss: 0.8193 - accuracy: 0.6693\n",
      "Epoch 7/100\n",
      "77/77 [==============================] - 0s 1ms/step - loss: 0.7970 - accuracy: 0.6562\n",
      "Epoch 8/100\n",
      "77/77 [==============================] - 0s 1ms/step - loss: 0.7587 - accuracy: 0.6758\n",
      "Epoch 9/100\n",
      "77/77 [==============================] - 0s 1ms/step - loss: 0.7321 - accuracy: 0.6823\n",
      "Epoch 10/100\n",
      "77/77 [==============================] - 0s 2ms/step - loss: 0.7392 - accuracy: 0.6680\n",
      "Epoch 11/100\n",
      "77/77 [==============================] - 0s 2ms/step - loss: 0.7205 - accuracy: 0.6810\n",
      "Epoch 12/100\n",
      "77/77 [==============================] - 0s 1ms/step - loss: 0.7036 - accuracy: 0.6771\n",
      "Epoch 13/100\n",
      "77/77 [==============================] - 0s 1ms/step - loss: 0.6726 - accuracy: 0.6823\n",
      "Epoch 14/100\n",
      "77/77 [==============================] - 0s 1ms/step - loss: 0.6914 - accuracy: 0.6680\n",
      "Epoch 15/100\n",
      "77/77 [==============================] - 0s 1ms/step - loss: 0.6787 - accuracy: 0.6875\n",
      "Epoch 16/100\n",
      "77/77 [==============================] - 0s 1ms/step - loss: 0.6582 - accuracy: 0.6810\n",
      "Epoch 17/100\n",
      "77/77 [==============================] - 0s 1ms/step - loss: 0.6486 - accuracy: 0.6992\n",
      "Epoch 18/100\n",
      "77/77 [==============================] - 0s 1ms/step - loss: 0.6579 - accuracy: 0.6732\n",
      "Epoch 19/100\n",
      "77/77 [==============================] - 0s 1ms/step - loss: 0.6552 - accuracy: 0.6849\n",
      "Epoch 20/100\n",
      "77/77 [==============================] - 0s 1ms/step - loss: 0.6505 - accuracy: 0.6914\n",
      "Epoch 21/100\n",
      "77/77 [==============================] - 0s 1ms/step - loss: 0.6628 - accuracy: 0.6823\n",
      "Epoch 22/100\n",
      "77/77 [==============================] - 0s 1ms/step - loss: 0.6279 - accuracy: 0.7018\n",
      "Epoch 23/100\n",
      "77/77 [==============================] - 0s 1ms/step - loss: 0.6436 - accuracy: 0.6784\n",
      "Epoch 24/100\n",
      "77/77 [==============================] - 0s 1ms/step - loss: 0.6349 - accuracy: 0.7031\n",
      "Epoch 25/100\n",
      "77/77 [==============================] - 0s 1ms/step - loss: 0.6131 - accuracy: 0.7044\n",
      "Epoch 26/100\n",
      "77/77 [==============================] - 0s 1ms/step - loss: 0.6057 - accuracy: 0.7070\n",
      "Epoch 27/100\n",
      "77/77 [==============================] - 0s 1ms/step - loss: 0.6114 - accuracy: 0.7096\n",
      "Epoch 28/100\n",
      "77/77 [==============================] - 0s 1ms/step - loss: 0.5972 - accuracy: 0.7122\n",
      "Epoch 29/100\n",
      "77/77 [==============================] - 0s 1ms/step - loss: 0.5884 - accuracy: 0.7174\n",
      "Epoch 30/100\n",
      "77/77 [==============================] - 0s 1ms/step - loss: 0.6149 - accuracy: 0.6966\n",
      "Epoch 31/100\n",
      "77/77 [==============================] - 0s 1ms/step - loss: 0.5860 - accuracy: 0.7227\n",
      "Epoch 32/100\n",
      "77/77 [==============================] - 0s 1ms/step - loss: 0.5703 - accuracy: 0.7370\n",
      "Epoch 33/100\n",
      "77/77 [==============================] - 0s 1ms/step - loss: 0.6036 - accuracy: 0.6979\n",
      "Epoch 34/100\n",
      "77/77 [==============================] - 0s 1ms/step - loss: 0.6094 - accuracy: 0.7096\n",
      "Epoch 35/100\n",
      "77/77 [==============================] - 0s 1ms/step - loss: 0.6009 - accuracy: 0.7266\n",
      "Epoch 36/100\n",
      "77/77 [==============================] - 0s 1ms/step - loss: 0.5900 - accuracy: 0.6927\n",
      "Epoch 37/100\n",
      "77/77 [==============================] - 0s 1ms/step - loss: 0.5974 - accuracy: 0.6966\n",
      "Epoch 38/100\n",
      "77/77 [==============================] - 0s 1ms/step - loss: 0.5737 - accuracy: 0.7240\n",
      "Epoch 39/100\n",
      "77/77 [==============================] - 0s 1ms/step - loss: 0.5939 - accuracy: 0.7318\n",
      "Epoch 40/100\n",
      "77/77 [==============================] - 0s 1ms/step - loss: 0.5851 - accuracy: 0.7201\n",
      "Epoch 41/100\n",
      "77/77 [==============================] - 0s 1ms/step - loss: 0.5809 - accuracy: 0.7305\n",
      "Epoch 42/100\n",
      "77/77 [==============================] - 0s 1ms/step - loss: 0.5755 - accuracy: 0.7201\n",
      "Epoch 43/100\n",
      "77/77 [==============================] - 0s 1ms/step - loss: 0.5749 - accuracy: 0.7292\n",
      "Epoch 44/100\n",
      "77/77 [==============================] - 0s 1ms/step - loss: 0.5882 - accuracy: 0.7109\n",
      "Epoch 45/100\n",
      "77/77 [==============================] - 0s 1ms/step - loss: 0.5894 - accuracy: 0.7174\n",
      "Epoch 46/100\n",
      "77/77 [==============================] - 0s 1ms/step - loss: 0.5667 - accuracy: 0.7292\n",
      "Epoch 47/100\n",
      "77/77 [==============================] - 0s 1ms/step - loss: 0.5778 - accuracy: 0.7266\n",
      "Epoch 48/100\n",
      "77/77 [==============================] - 0s 1ms/step - loss: 0.5739 - accuracy: 0.7161\n",
      "Epoch 49/100\n",
      "77/77 [==============================] - 0s 1ms/step - loss: 0.5923 - accuracy: 0.7057\n",
      "Epoch 50/100\n",
      "77/77 [==============================] - 0s 1ms/step - loss: 0.5853 - accuracy: 0.6940\n",
      "Epoch 51/100\n",
      "77/77 [==============================] - 0s 1ms/step - loss: 0.5699 - accuracy: 0.7005\n",
      "Epoch 52/100\n",
      "77/77 [==============================] - 0s 1ms/step - loss: 0.5607 - accuracy: 0.7318\n",
      "Epoch 53/100\n",
      "77/77 [==============================] - 0s 1ms/step - loss: 0.5694 - accuracy: 0.7331\n",
      "Epoch 54/100\n",
      "77/77 [==============================] - 0s 1ms/step - loss: 0.5657 - accuracy: 0.7174\n",
      "Epoch 55/100\n",
      "77/77 [==============================] - 0s 1ms/step - loss: 0.5726 - accuracy: 0.7109\n",
      "Epoch 56/100\n",
      "77/77 [==============================] - 0s 1ms/step - loss: 0.5769 - accuracy: 0.7161\n",
      "Epoch 57/100\n",
      "77/77 [==============================] - 0s 1ms/step - loss: 0.5563 - accuracy: 0.7409\n",
      "Epoch 58/100\n",
      "77/77 [==============================] - 0s 1ms/step - loss: 0.5771 - accuracy: 0.7070\n",
      "Epoch 59/100\n",
      "77/77 [==============================] - 0s 1ms/step - loss: 0.5428 - accuracy: 0.7539\n",
      "Epoch 60/100\n",
      "77/77 [==============================] - 0s 2ms/step - loss: 0.5818 - accuracy: 0.7214\n",
      "Epoch 61/100\n",
      "77/77 [==============================] - 0s 2ms/step - loss: 0.5633 - accuracy: 0.7135\n",
      "Epoch 62/100\n",
      "77/77 [==============================] - 0s 2ms/step - loss: 0.5574 - accuracy: 0.7266\n",
      "Epoch 63/100\n",
      "77/77 [==============================] - 0s 1ms/step - loss: 0.5552 - accuracy: 0.7344\n",
      "Epoch 64/100\n",
      "77/77 [==============================] - 0s 2ms/step - loss: 0.5524 - accuracy: 0.7214\n",
      "Epoch 65/100\n",
      "77/77 [==============================] - 0s 2ms/step - loss: 0.5565 - accuracy: 0.7161\n",
      "Epoch 66/100\n",
      "77/77 [==============================] - 0s 1ms/step - loss: 0.5488 - accuracy: 0.7227\n",
      "Epoch 67/100\n",
      "77/77 [==============================] - 0s 1ms/step - loss: 0.5693 - accuracy: 0.7174\n",
      "Epoch 68/100\n",
      "77/77 [==============================] - 0s 1ms/step - loss: 0.5427 - accuracy: 0.7487\n",
      "Epoch 69/100\n",
      "77/77 [==============================] - 0s 2ms/step - loss: 0.5404 - accuracy: 0.7318\n",
      "Epoch 70/100\n",
      "77/77 [==============================] - 0s 2ms/step - loss: 0.5485 - accuracy: 0.7409\n",
      "Epoch 71/100\n",
      "77/77 [==============================] - 0s 2ms/step - loss: 0.5545 - accuracy: 0.7253\n",
      "Epoch 72/100\n",
      "77/77 [==============================] - 0s 1ms/step - loss: 0.5628 - accuracy: 0.7214\n",
      "Epoch 73/100\n",
      "77/77 [==============================] - 0s 1ms/step - loss: 0.5527 - accuracy: 0.7148\n",
      "Epoch 74/100\n",
      "77/77 [==============================] - 0s 1ms/step - loss: 0.5567 - accuracy: 0.7409\n",
      "Epoch 75/100\n",
      "77/77 [==============================] - 0s 2ms/step - loss: 0.5558 - accuracy: 0.7318\n",
      "Epoch 76/100\n",
      "77/77 [==============================] - 0s 2ms/step - loss: 0.5464 - accuracy: 0.7292\n",
      "Epoch 77/100\n",
      "77/77 [==============================] - 0s 2ms/step - loss: 0.5521 - accuracy: 0.7344\n",
      "Epoch 78/100\n",
      "77/77 [==============================] - 0s 1ms/step - loss: 0.5449 - accuracy: 0.7370\n",
      "Epoch 79/100\n",
      "77/77 [==============================] - 0s 1ms/step - loss: 0.5566 - accuracy: 0.7201\n",
      "Epoch 80/100\n",
      "77/77 [==============================] - 0s 1ms/step - loss: 0.5473 - accuracy: 0.7500\n",
      "Epoch 81/100\n",
      "77/77 [==============================] - 0s 1ms/step - loss: 0.5365 - accuracy: 0.7474\n",
      "Epoch 82/100\n",
      "77/77 [==============================] - 0s 1ms/step - loss: 0.5535 - accuracy: 0.7279\n",
      "Epoch 83/100\n",
      "77/77 [==============================] - 0s 1ms/step - loss: 0.5680 - accuracy: 0.7070\n",
      "Epoch 84/100\n",
      "77/77 [==============================] - 0s 2ms/step - loss: 0.5263 - accuracy: 0.7422\n",
      "Epoch 85/100\n",
      "77/77 [==============================] - 0s 2ms/step - loss: 0.5386 - accuracy: 0.7435\n",
      "Epoch 86/100\n",
      "77/77 [==============================] - 0s 2ms/step - loss: 0.5478 - accuracy: 0.7409\n",
      "Epoch 87/100\n",
      "77/77 [==============================] - 0s 1ms/step - loss: 0.5325 - accuracy: 0.7318\n",
      "Epoch 88/100\n",
      "77/77 [==============================] - 0s 2ms/step - loss: 0.5404 - accuracy: 0.7539\n",
      "Epoch 89/100\n",
      "77/77 [==============================] - 0s 2ms/step - loss: 0.5258 - accuracy: 0.7487\n",
      "Epoch 90/100\n",
      "77/77 [==============================] - 0s 1ms/step - loss: 0.5375 - accuracy: 0.7383\n",
      "Epoch 91/100\n",
      "77/77 [==============================] - 0s 1ms/step - loss: 0.5377 - accuracy: 0.7279\n",
      "Epoch 92/100\n",
      "77/77 [==============================] - 0s 1ms/step - loss: 0.5504 - accuracy: 0.7357\n",
      "Epoch 93/100\n",
      "77/77 [==============================] - 0s 1ms/step - loss: 0.5446 - accuracy: 0.7357\n",
      "Epoch 94/100\n",
      "77/77 [==============================] - 0s 1ms/step - loss: 0.5263 - accuracy: 0.7565\n",
      "Epoch 95/100\n",
      "77/77 [==============================] - 0s 1ms/step - loss: 0.5559 - accuracy: 0.7422\n",
      "Epoch 96/100\n",
      "77/77 [==============================] - 0s 2ms/step - loss: 0.5360 - accuracy: 0.7552\n",
      "Epoch 97/100\n",
      "77/77 [==============================] - 0s 2ms/step - loss: 0.5377 - accuracy: 0.7448\n",
      "Epoch 98/100\n",
      "77/77 [==============================] - 0s 2ms/step - loss: 0.5331 - accuracy: 0.7552\n",
      "Epoch 99/100\n",
      "77/77 [==============================] - 0s 2ms/step - loss: 0.5276 - accuracy: 0.7292\n",
      "Epoch 100/100\n",
      "77/77 [==============================] - 0s 2ms/step - loss: 0.5264 - accuracy: 0.7461\n"
     ]
    }
   ],
   "source": [
    "# fit the keras model on the dataset\n",
    "history=model.fit(X, y, epochs=100, batch_size=10)"
   ]
  },
  {
   "cell_type": "code",
   "execution_count": 38,
   "metadata": {
    "colab": {
     "base_uri": "https://localhost:8080/",
     "height": 284
    },
    "executionInfo": {
     "elapsed": 926,
     "status": "ok",
     "timestamp": 1640256261602,
     "user": {
      "displayName": "Amin Zayeromali",
      "photoUrl": "https://lh3.googleusercontent.com/ogw/ADea4I4IMIs6yAF29vMqlGr8ckuLSkbFqeSBOgQ7A0IsNw=s64",
      "userId": "4vmuuoFzvRYp"
     },
     "user_tz": -210
    },
    "id": "oMoA9KFFJLzV",
    "outputId": "e152d7a0-f48d-4545-bda1-a45864806c20"
   },
   "outputs": [
    {
     "data": {
      "text/plain": [
       "[<matplotlib.lines.Line2D at 0x7f40aa531940>]"
      ]
     },
     "execution_count": 38,
     "metadata": {},
     "output_type": "execute_result"
    },
    {
     "data": {
      "image/png": "[encoded data removed]",
      "text/plain": [
       "<Figure size 432x288 with 1 Axes>"
      ]
     },
     "metadata": {
      "needs_background": "light"
     },
     "output_type": "display_data"
    }
   ],
   "source": [
    "import matplotlib.pyplot as plt\n",
    "plt.figure()\n",
    "plt.plot(history.history['loss'])"
   ]
  },
  {
   "cell_type": "code",
   "execution_count": 39,
   "metadata": {
    "colab": {
     "base_uri": "https://localhost:8080/"
    },
    "executionInfo": {
     "elapsed": 846,
     "status": "ok",
     "timestamp": 1622090953654,
     "user": {
      "displayName": "Amin Zayeromali",
      "photoUrl": "https://lh3.googleusercontent.com/a-/AOh14Gh97R7MJfmdZC_4lyRT5-oJc6oeiHNtrNzcyB_n=s64",
      "userId": "4vmuuoFzvRYp"
     },
     "user_tz": -270
    },
    "id": "ZMtqIfRrmniM",
    "outputId": "1f120246-599a-4946-ae9f-bfdcbd60c273"
   },
   "outputs": [
    {
     "name": "stdout",
     "output_type": "stream",
     "text": [
      "24/24 [==============================] - 0s 4ms/step - loss: 0.6812 - accuracy: 0.6615\n",
      "Accuracy: 66.15\n"
     ]
    }
   ],
   "source": [
    "# evaluate the keras model\n",
    "_, accuracy = model.evaluate(X, y)\n",
    "print('Accuracy: %.2f' % (accuracy*100))"
   ]
  },
  {
   "cell_type": "code",
   "execution_count": 40,
   "metadata": {
    "colab": {
     "base_uri": "https://localhost:8080/"
    },
    "executionInfo": {
     "elapsed": 301,
     "status": "ok",
     "timestamp": 1622091002112,
     "user": {
      "displayName": "Amin Zayeromali",
      "photoUrl": "https://lh3.googleusercontent.com/a-/AOh14Gh97R7MJfmdZC_4lyRT5-oJc6oeiHNtrNzcyB_n=s64",
      "userId": "4vmuuoFzvRYp"
     },
     "user_tz": -270
    },
    "id": "3rGeTmw8yimi",
    "outputId": "61752313-c3e6-43a0-f5ee-ff210101d152"
   },
   "outputs": [
    {
     "name": "stdout",
     "output_type": "stream",
     "text": [
      "[6.0, 148.0, 72.0, 35.0, 0.0, 33.6, 0.627, 50.0] => 0 (expected 1)\n",
      "[1.0, 85.0, 66.0, 29.0, 0.0, 26.6, 0.351, 31.0] => 0 (expected 0)\n",
      "[8.0, 183.0, 64.0, 0.0, 0.0, 23.3, 0.672, 32.0] => 0 (expected 1)\n",
      "[1.0, 89.0, 66.0, 23.0, 94.0, 28.1, 0.167, 21.0] => 0 (expected 0)\n",
      "[0.0, 137.0, 40.0, 35.0, 168.0, 43.1, 2.288, 33.0] => 0 (expected 1)\n",
      "[5.0, 116.0, 74.0, 0.0, 0.0, 25.6, 0.201, 30.0] => 0 (expected 0)\n",
      "[3.0, 78.0, 50.0, 32.0, 88.0, 31.0, 0.248, 26.0] => 0 (expected 1)\n",
      "[10.0, 115.0, 0.0, 0.0, 0.0, 35.3, 0.134, 29.0] => 0 (expected 0)\n",
      "[2.0, 197.0, 70.0, 45.0, 543.0, 30.5, 0.158, 53.0] => 0 (expected 1)\n",
      "[8.0, 125.0, 96.0, 0.0, 0.0, 0.0, 0.232, 54.0] => 0 (expected 1)\n"
     ]
    }
   ],
   "source": [
    "predictions = model.predict(X)\n",
    "# summarize the first 5 cases\n",
    "for i in range(10):\n",
    "    print('%s => %d (expected %d)' % (X[i].tolist(), predictions[i], y[i]))"
   ]
  },
  {
   "cell_type": "code",
   "execution_count": 43,
   "metadata": {
    "colab": {
     "base_uri": "https://localhost:8080/",
     "height": 1000
    },
    "executionInfo": {
     "elapsed": 42129,
     "status": "ok",
     "timestamp": 1640256759177,
     "user": {
      "displayName": "Amin Zayeromali",
      "photoUrl": "https://lh3.googleusercontent.com/ogw/ADea4I4IMIs6yAF29vMqlGr8ckuLSkbFqeSBOgQ7A0IsNw=s64",
      "userId": "4vmuuoFzvRYp"
     },
     "user_tz": -210
    },
    "id": "UMYa2vXyg8pE",
    "outputId": "e3ea0954-8505-4f61-c9bb-e99b9b6a951a"
   },
   "outputs": [
    {
     "name": "stdout",
     "output_type": "stream",
     "text": [
      "Epoch 1/100\n",
      "61/62 [============================>.] - ETA: 0s - loss: 0.5071 - accuracy: 0.7623\n",
      "Epoch 00001: val_accuracy improved from -inf to 0.69481, saving model to best_model.h5\n",
      "62/62 [==============================] - 1s 6ms/step - loss: 0.5112 - accuracy: 0.7606 - val_loss: 0.6480 - val_accuracy: 0.6948\n",
      "Epoch 2/100\n",
      "59/62 [===========================>..] - ETA: 0s - loss: 0.5095 - accuracy: 0.7627\n",
      "Epoch 00002: val_accuracy did not improve from 0.69481\n",
      "62/62 [==============================] - 0s 3ms/step - loss: 0.5064 - accuracy: 0.7638 - val_loss: 0.7467 - val_accuracy: 0.6558\n",
      "Epoch 3/100\n",
      "36/62 [================>.............] - ETA: 0s - loss: 0.4717 - accuracy: 0.7667\n",
      "Epoch 00003: val_accuracy improved from 0.69481 to 0.71429, saving model to best_model.h5\n",
      "62/62 [==============================] - 0s 3ms/step - loss: 0.5086 - accuracy: 0.7443 - val_loss: 0.5737 - val_accuracy: 0.7143\n",
      "Epoch 4/100\n",
      "33/62 [==============>...............] - ETA: 0s - loss: 0.4743 - accuracy: 0.7576\n",
      "Epoch 00004: val_accuracy improved from 0.71429 to 0.74026, saving model to best_model.h5\n",
      "62/62 [==============================] - 0s 3ms/step - loss: 0.5101 - accuracy: 0.7524 - val_loss: 0.5702 - val_accuracy: 0.7403\n",
      "Epoch 5/100\n",
      "35/62 [===============>..............] - ETA: 0s - loss: 0.4763 - accuracy: 0.7714\n",
      "Epoch 00005: val_accuracy improved from 0.74026 to 0.77922, saving model to best_model.h5\n",
      "62/62 [==============================] - 0s 3ms/step - loss: 0.4992 - accuracy: 0.7638 - val_loss: 0.5336 - val_accuracy: 0.7792\n",
      "Epoch 6/100\n",
      "35/62 [===============>..............] - ETA: 0s - loss: 0.4720 - accuracy: 0.7657\n",
      "Epoch 00006: val_accuracy did not improve from 0.77922\n",
      "62/62 [==============================] - 0s 2ms/step - loss: 0.4892 - accuracy: 0.7541 - val_loss: 0.6227 - val_accuracy: 0.7338\n",
      "Epoch 7/100\n",
      "35/62 [===============>..............] - ETA: 0s - loss: 0.5327 - accuracy: 0.7257\n",
      "Epoch 00007: val_accuracy did not improve from 0.77922\n",
      "62/62 [==============================] - 0s 2ms/step - loss: 0.5116 - accuracy: 0.7541 - val_loss: 0.5878 - val_accuracy: 0.7078\n",
      "Epoch 8/100\n",
      "35/62 [===============>..............] - ETA: 0s - loss: 0.4721 - accuracy: 0.7829\n",
      "Epoch 00008: val_accuracy did not improve from 0.77922\n",
      "62/62 [==============================] - 0s 2ms/step - loss: 0.5106 - accuracy: 0.7638 - val_loss: 0.5617 - val_accuracy: 0.6818\n",
      "Epoch 9/100\n",
      "62/62 [==============================] - ETA: 0s - loss: 0.5019 - accuracy: 0.7557\n",
      "Epoch 00009: val_accuracy did not improve from 0.77922\n",
      "62/62 [==============================] - 0s 2ms/step - loss: 0.5019 - accuracy: 0.7557 - val_loss: 0.6840 - val_accuracy: 0.6753\n",
      "Epoch 10/100\n",
      "35/62 [===============>..............] - ETA: 0s - loss: 0.4764 - accuracy: 0.7743\n",
      "Epoch 00010: val_accuracy did not improve from 0.77922\n",
      "62/62 [==============================] - 0s 2ms/step - loss: 0.4940 - accuracy: 0.7736 - val_loss: 0.4934 - val_accuracy: 0.7532\n",
      "Epoch 11/100\n",
      "33/62 [==============>...............] - ETA: 0s - loss: 0.4440 - accuracy: 0.8212\n",
      "Epoch 00011: val_accuracy did not improve from 0.77922\n",
      "62/62 [==============================] - 0s 2ms/step - loss: 0.4961 - accuracy: 0.7834 - val_loss: 0.8532 - val_accuracy: 0.5065\n",
      "Epoch 12/100\n",
      "37/62 [================>.............] - ETA: 0s - loss: 0.4647 - accuracy: 0.7892\n",
      "Epoch 00012: val_accuracy did not improve from 0.77922\n",
      "62/62 [==============================] - 0s 2ms/step - loss: 0.4957 - accuracy: 0.7557 - val_loss: 0.6864 - val_accuracy: 0.6494\n",
      "Epoch 13/100\n",
      "35/62 [===============>..............] - ETA: 0s - loss: 0.5057 - accuracy: 0.7457\n",
      "Epoch 00013: val_accuracy did not improve from 0.77922\n",
      "62/62 [==============================] - 0s 2ms/step - loss: 0.5013 - accuracy: 0.7459 - val_loss: 0.6813 - val_accuracy: 0.6688\n",
      "Epoch 14/100\n",
      "32/62 [==============>...............] - ETA: 0s - loss: 0.5108 - accuracy: 0.7594\n",
      "Epoch 00014: val_accuracy did not improve from 0.77922\n",
      "62/62 [==============================] - 0s 2ms/step - loss: 0.4755 - accuracy: 0.7687 - val_loss: 0.6486 - val_accuracy: 0.7078\n",
      "Epoch 15/100\n",
      "36/62 [================>.............] - ETA: 0s - loss: 0.5093 - accuracy: 0.7333\n",
      "Epoch 00015: val_accuracy did not improve from 0.77922\n",
      "62/62 [==============================] - 0s 2ms/step - loss: 0.4977 - accuracy: 0.7524 - val_loss: 0.5600 - val_accuracy: 0.7143\n",
      "Epoch 16/100\n",
      "36/62 [================>.............] - ETA: 0s - loss: 0.5035 - accuracy: 0.7750\n",
      "Epoch 00016: val_accuracy did not improve from 0.77922\n",
      "62/62 [==============================] - 0s 2ms/step - loss: 0.5092 - accuracy: 0.7687 - val_loss: 0.8554 - val_accuracy: 0.6558\n",
      "Epoch 17/100\n",
      "36/62 [================>.............] - ETA: 0s - loss: 0.4989 - accuracy: 0.7778\n",
      "Epoch 00017: val_accuracy did not improve from 0.77922\n",
      "62/62 [==============================] - 0s 2ms/step - loss: 0.4995 - accuracy: 0.7704 - val_loss: 0.6587 - val_accuracy: 0.6753\n",
      "Epoch 18/100\n",
      "32/62 [==============>...............] - ETA: 0s - loss: 0.5027 - accuracy: 0.7594\n",
      "Epoch 00018: val_accuracy did not improve from 0.77922\n",
      "62/62 [==============================] - 0s 2ms/step - loss: 0.4899 - accuracy: 0.7720 - val_loss: 0.6256 - val_accuracy: 0.6948\n",
      "Epoch 19/100\n",
      "37/62 [================>.............] - ETA: 0s - loss: 0.5307 - accuracy: 0.7270\n",
      "Epoch 00019: val_accuracy did not improve from 0.77922\n",
      "62/62 [==============================] - 0s 2ms/step - loss: 0.5127 - accuracy: 0.7362 - val_loss: 0.5180 - val_accuracy: 0.7597\n",
      "Epoch 20/100\n",
      "34/62 [===============>..............] - ETA: 0s - loss: 0.5019 - accuracy: 0.7500\n",
      "Epoch 00020: val_accuracy did not improve from 0.77922\n",
      "62/62 [==============================] - 0s 2ms/step - loss: 0.4976 - accuracy: 0.7541 - val_loss: 0.5687 - val_accuracy: 0.7143\n",
      "Epoch 21/100\n",
      "36/62 [================>.............] - ETA: 0s - loss: 0.5327 - accuracy: 0.7361\n",
      "Epoch 00021: val_accuracy did not improve from 0.77922\n",
      "62/62 [==============================] - 0s 2ms/step - loss: 0.5043 - accuracy: 0.7492 - val_loss: 0.5467 - val_accuracy: 0.7273\n",
      "Epoch 22/100\n",
      "35/62 [===============>..............] - ETA: 0s - loss: 0.5223 - accuracy: 0.7457\n",
      "Epoch 00022: val_accuracy did not improve from 0.77922\n",
      "62/62 [==============================] - 0s 2ms/step - loss: 0.4819 - accuracy: 0.7638 - val_loss: 0.4917 - val_accuracy: 0.7792\n",
      "Epoch 23/100\n",
      "36/62 [================>.............] - ETA: 0s - loss: 0.4625 - accuracy: 0.7694\n",
      "Epoch 00023: val_accuracy did not improve from 0.77922\n",
      "62/62 [==============================] - 0s 2ms/step - loss: 0.5052 - accuracy: 0.7492 - val_loss: 0.4995 - val_accuracy: 0.7792\n",
      "Epoch 24/100\n",
      "36/62 [================>.............] - ETA: 0s - loss: 0.5416 - accuracy: 0.7194\n",
      "Epoch 00024: val_accuracy did not improve from 0.77922\n",
      "62/62 [==============================] - 0s 2ms/step - loss: 0.5065 - accuracy: 0.7524 - val_loss: 0.5566 - val_accuracy: 0.7078\n",
      "Epoch 25/100\n",
      "36/62 [================>.............] - ETA: 0s - loss: 0.5037 - accuracy: 0.7417\n",
      "Epoch 00025: val_accuracy did not improve from 0.77922\n",
      "62/62 [==============================] - 0s 2ms/step - loss: 0.5151 - accuracy: 0.7362 - val_loss: 0.7526 - val_accuracy: 0.6234\n",
      "Epoch 26/100\n",
      "35/62 [===============>..............] - ETA: 0s - loss: 0.5070 - accuracy: 0.7629\n",
      "Epoch 00026: val_accuracy did not improve from 0.77922\n",
      "62/62 [==============================] - 0s 2ms/step - loss: 0.4907 - accuracy: 0.7704 - val_loss: 0.5569 - val_accuracy: 0.7273\n",
      "Epoch 27/100\n",
      "35/62 [===============>..............] - ETA: 0s - loss: 0.4942 - accuracy: 0.7600\n",
      "Epoch 00027: val_accuracy did not improve from 0.77922\n",
      "62/62 [==============================] - 0s 2ms/step - loss: 0.5045 - accuracy: 0.7573 - val_loss: 0.5284 - val_accuracy: 0.7468\n",
      "Epoch 28/100\n",
      "37/62 [================>.............] - ETA: 0s - loss: 0.5164 - accuracy: 0.7595\n",
      "Epoch 00028: val_accuracy did not improve from 0.77922\n",
      "62/62 [==============================] - 0s 2ms/step - loss: 0.4863 - accuracy: 0.7785 - val_loss: 0.7576 - val_accuracy: 0.6623\n",
      "Epoch 29/100\n",
      "36/62 [================>.............] - ETA: 0s - loss: 0.5180 - accuracy: 0.7361\n",
      "Epoch 00029: val_accuracy did not improve from 0.77922\n",
      "62/62 [==============================] - 0s 2ms/step - loss: 0.5012 - accuracy: 0.7492 - val_loss: 0.5674 - val_accuracy: 0.7597\n",
      "Epoch 30/100\n",
      "36/62 [================>.............] - ETA: 0s - loss: 0.4619 - accuracy: 0.7778\n",
      "Epoch 00030: val_accuracy did not improve from 0.77922\n",
      "62/62 [==============================] - 0s 2ms/step - loss: 0.4855 - accuracy: 0.7638 - val_loss: 0.7209 - val_accuracy: 0.6818\n",
      "Epoch 31/100\n",
      "35/62 [===============>..............] - ETA: 0s - loss: 0.5073 - accuracy: 0.7486\n",
      "Epoch 00031: val_accuracy did not improve from 0.77922\n",
      "62/62 [==============================] - 0s 2ms/step - loss: 0.4994 - accuracy: 0.7508 - val_loss: 0.6227 - val_accuracy: 0.6818\n",
      "Epoch 32/100\n",
      "35/62 [===============>..............] - ETA: 0s - loss: 0.5048 - accuracy: 0.7657\n",
      "Epoch 00032: val_accuracy did not improve from 0.77922\n",
      "62/62 [==============================] - 0s 2ms/step - loss: 0.4888 - accuracy: 0.7752 - val_loss: 0.6207 - val_accuracy: 0.7013\n",
      "Epoch 33/100\n",
      "36/62 [================>.............] - ETA: 0s - loss: 0.4945 - accuracy: 0.7528\n",
      "Epoch 00033: val_accuracy did not improve from 0.77922\n",
      "62/62 [==============================] - 0s 2ms/step - loss: 0.4980 - accuracy: 0.7720 - val_loss: 0.6283 - val_accuracy: 0.6753\n",
      "Epoch 34/100\n",
      "35/62 [===============>..............] - ETA: 0s - loss: 0.5099 - accuracy: 0.7629\n",
      "Epoch 00034: val_accuracy did not improve from 0.77922\n",
      "62/62 [==============================] - 0s 2ms/step - loss: 0.5201 - accuracy: 0.7427 - val_loss: 0.5524 - val_accuracy: 0.7662\n",
      "Epoch 35/100\n",
      "36/62 [================>.............] - ETA: 0s - loss: 0.4883 - accuracy: 0.7722\n",
      "Epoch 00035: val_accuracy did not improve from 0.77922\n",
      "62/62 [==============================] - 0s 2ms/step - loss: 0.4917 - accuracy: 0.7655 - val_loss: 0.6494 - val_accuracy: 0.6818\n",
      "Epoch 36/100\n",
      "34/62 [===============>..............] - ETA: 0s - loss: 0.4978 - accuracy: 0.7294\n",
      "Epoch 00036: val_accuracy did not improve from 0.77922\n",
      "62/62 [==============================] - 0s 2ms/step - loss: 0.4956 - accuracy: 0.7508 - val_loss: 0.5721 - val_accuracy: 0.7208\n",
      "Epoch 37/100\n",
      "35/62 [===============>..............] - ETA: 0s - loss: 0.4670 - accuracy: 0.7600\n",
      "Epoch 00037: val_accuracy did not improve from 0.77922\n",
      "62/62 [==============================] - 0s 2ms/step - loss: 0.4850 - accuracy: 0.7573 - val_loss: 0.6209 - val_accuracy: 0.6883\n",
      "Epoch 38/100\n",
      "35/62 [===============>..............] - ETA: 0s - loss: 0.4902 - accuracy: 0.7600\n",
      "Epoch 00038: val_accuracy did not improve from 0.77922\n",
      "62/62 [==============================] - 0s 2ms/step - loss: 0.4813 - accuracy: 0.7720 - val_loss: 0.5660 - val_accuracy: 0.7208\n",
      "Epoch 39/100\n",
      "36/62 [================>.............] - ETA: 0s - loss: 0.4816 - accuracy: 0.7833\n",
      "Epoch 00039: val_accuracy did not improve from 0.77922\n",
      "62/62 [==============================] - 0s 2ms/step - loss: 0.4927 - accuracy: 0.7687 - val_loss: 0.5402 - val_accuracy: 0.7143\n",
      "Epoch 40/100\n",
      "35/62 [===============>..............] - ETA: 0s - loss: 0.4749 - accuracy: 0.7743\n",
      "Epoch 00040: val_accuracy did not improve from 0.77922\n",
      "62/62 [==============================] - 0s 2ms/step - loss: 0.4871 - accuracy: 0.7590 - val_loss: 0.5264 - val_accuracy: 0.7208\n",
      "Epoch 41/100\n",
      "37/62 [================>.............] - ETA: 0s - loss: 0.4523 - accuracy: 0.7838\n",
      "Epoch 00041: val_accuracy did not improve from 0.77922\n",
      "62/62 [==============================] - 0s 2ms/step - loss: 0.4820 - accuracy: 0.7508 - val_loss: 0.6297 - val_accuracy: 0.6948\n",
      "Epoch 42/100\n",
      "34/62 [===============>..............] - ETA: 0s - loss: 0.5322 - accuracy: 0.7353\n",
      "Epoch 00042: val_accuracy improved from 0.77922 to 0.79870, saving model to best_model.h5\n",
      "62/62 [==============================] - 0s 2ms/step - loss: 0.4996 - accuracy: 0.7476 - val_loss: 0.5121 - val_accuracy: 0.7987\n",
      "Epoch 00042: early stopping\n"
     ]
    },
    {
     "data": {
      "text/plain": [
       "<matplotlib.legend.Legend at 0x7f40aa3d76a0>"
      ]
     },
     "execution_count": 43,
     "metadata": {},
     "output_type": "execute_result"
    },
    {
     "data": {
      "image/png": "[encoded data removed]",
      "text/plain": [
       "<Figure size 432x288 with 1 Axes>"
      ]
     },
     "metadata": {
      "needs_background": "light"
     },
     "output_type": "display_data"
    },
    {
     "data": {
      "image/png": "[encoded data removed]",
      "text/plain": [
       "<Figure size 432x288 with 1 Axes>"
      ]
     },
     "metadata": {
      "needs_background": "light"
     },
     "output_type": "display_data"
    }
   ],
   "source": [
    "import matplotlib.pyplot as plt\n",
    "from keras.callbacks import EarlyStopping\n",
    "from keras.callbacks import ModelCheckpoint\n",
    "es = EarlyStopping(monitor='val_loss', mode='min', verbose=1, patience=20)\n",
    "mc = ModelCheckpoint('best_model.h5', monitor='val_accuracy', mode='max', verbose=1, save_best_only=True)\n",
    "history=model.fit(X, y, epochs=100, batch_size=10, verbose=1, validation_split=0.2,callbacks=[mc,es]) #validation_data=[test_x, test_y]\n",
    "plt.plot(history.history['loss'])\n",
    "plt.plot(history.history['val_loss'])\n",
    "plt.legend(['loss','val_loss'], loc='upper right')\n",
    "plt.figure()\n",
    "plt.plot(history.history['accuracy'])\n",
    "plt.plot(history.history['val_accuracy'])\n",
    "plt.legend(['acc','val_acc'], loc='upper right')"
   ]
  },
  {
   "cell_type": "code",
   "execution_count": 44,
   "metadata": {
    "colab": {
     "base_uri": "https://localhost:8080/"
    },
    "executionInfo": {
     "elapsed": 470,
     "status": "ok",
     "timestamp": 1640256942448,
     "user": {
      "displayName": "Amin Zayeromali",
      "photoUrl": "https://lh3.googleusercontent.com/ogw/ADea4I4IMIs6yAF29vMqlGr8ckuLSkbFqeSBOgQ7A0IsNw=s64",
      "userId": "4vmuuoFzvRYp"
     },
     "user_tz": -210
    },
    "id": "YGhpM4FKmQEI",
    "outputId": "45fd925e-69df-44eb-a1dc-1b48ea95db4c"
   },
   "outputs": [
    {
     "name": "stdout",
     "output_type": "stream",
     "text": [
      "24/24 [==============================] - 0s 1ms/step - loss: 0.4541 - accuracy: 0.7969\n",
      "Accuracy: 79.69\n",
      "[6.0, 148.0, 72.0, 35.0, 0.0, 33.6, 0.627, 50.0] => 0 (expected 1)\n",
      "[1.0, 85.0, 66.0, 29.0, 0.0, 26.6, 0.351, 31.0] => 0 (expected 0)\n",
      "[8.0, 183.0, 64.0, 0.0, 0.0, 23.3, 0.672, 32.0] => 0 (expected 1)\n",
      "[1.0, 89.0, 66.0, 23.0, 94.0, 28.1, 0.167, 21.0] => 0 (expected 0)\n",
      "[0.0, 137.0, 40.0, 35.0, 168.0, 43.1, 2.288, 33.0] => 0 (expected 1)\n"
     ]
    }
   ],
   "source": [
    "model=load_model('best_model.h5')\n",
    "_, accuracy = model.evaluate(X, y)\n",
    "print('Accuracy: %.2f' % (accuracy*100))\n",
    "predictions = model.predict(X)\n",
    "# summarize the first 5 cases\n",
    "for i in range(5):\n",
    "\tprint('%s => %d (expected %d)' % (X[i].tolist(), predictions[i], y[i]))"
   ]
  }
 ],
 "metadata": {
  "colab": {
   "collapsed_sections": [],
   "name": "pima.ipynb",
   "provenance": []
  },
  "interpreter": {
   "hash": "f9f85f796d01129d0dd105a088854619f454435301f6ffec2fea96ecbd9be4ac"
  },
  "kernelspec": {
   "display_name": "default:Python",
   "language": "python",
   "name": "python3"
  },
  "language_info": {
   "codemirror_mode": {
    "name": "ipython",
    "version": 3
   },
   "file_extension": ".py",
   "mimetype": "text/x-python",
   "name": "python",
   "nbconvert_exporter": "python",
   "pygments_lexer": "ipython3",
   "version": "3.9.10"
  },
  "toc-showmarkdowntxt": true
 },
 "nbformat": 4,
 "nbformat_minor": 4
}

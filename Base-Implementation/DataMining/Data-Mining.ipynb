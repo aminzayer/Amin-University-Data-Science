{
 "cells": [
  {
   "cell_type": "code",
   "execution_count": 2,
   "id": "582cd8dd",
   "metadata": {},
   "outputs": [],
   "source": [
    "from Dr_Akbari import Data_Mining"
   ]
  },
  {
   "cell_type": "markdown",
   "id": "f52782d7",
   "metadata": {},
   "source": [
    "# Eeuclidean Distance"
   ]
  },
  {
   "cell_type": "code",
   "execution_count": 2,
   "id": "77008681",
   "metadata": {},
   "outputs": [
    {
     "name": "stdout",
     "output_type": "stream",
     "text": [
      "√ ( 0 - 1 )²+ ( 2 - 1 )²+ ( 2 - 1 )²+ ( 0 - 1 )²+ = 1.7320508075688772\n"
     ]
    }
   ],
   "source": [
    "print(Data_Mining.euclidean_distance([2, 0, 1, 2], [1, 1, 1, 1]))"
   ]
  },
  {
   "cell_type": "markdown",
   "id": "d5e817a4",
   "metadata": {},
   "source": [
    "# Manhattan Distance"
   ]
  },
  {
   "cell_type": "code",
   "execution_count": 3,
   "id": "9369b4b7",
   "metadata": {},
   "outputs": [
    {
     "name": "stdout",
     "output_type": "stream",
     "text": [
      "| 0 - 1 | + | 2 - 1 | + | 2 - 1 | + | 0 - 1 | + = 3\n"
     ]
    }
   ],
   "source": [
    "print(Data_Mining.manhattan_distance([2, 0, 1, 2], [1, 1, 1, 1]))"
   ]
  },
  {
   "cell_type": "markdown",
   "id": "767de342",
   "metadata": {},
   "source": [
    "# Minkowski Distance"
   ]
  },
  {
   "cell_type": "code",
   "execution_count": 4,
   "id": "a8abec16",
   "metadata": {},
   "outputs": [
    {
     "name": "stdout",
     "output_type": "stream",
     "text": [
      "max [ | 0 - 1 | + | 2 - 1 | + | 2 - 1 | + | 0 - 1 | + = 3.0\n"
     ]
    }
   ],
   "source": [
    "print(Data_Mining.minkowski_distance([2, 0, 1, 2], [1, 1, 1, 1], 1))"
   ]
  },
  {
   "cell_type": "markdown",
   "id": "2fc4cc9b",
   "metadata": {},
   "source": [
    "# Similarity & Distance Jaccard Non-numerical"
   ]
  },
  {
   "cell_type": "code",
   "execution_count": 6,
   "id": "13f2fa82",
   "metadata": {},
   "outputs": [
    {
     "name": "stdout",
     "output_type": "stream",
     "text": [
      "\n",
      "| {'B', 'A', 'C'}  ∩  {'B', 'A', 'C'}  =  3 | / | {'B', 'A', 'C'}  ∪  {'B', 'A', 'C'}  =  3 | \n",
      "\n",
      "similarity Jacarad is =  3  /  3 = 1.0\n",
      "Distance Jacarad is = 1 - ( 3  /  3 ) =  0.0\n"
     ]
    },
    {
     "data": {
      "text/plain": [
       "0.0"
      ]
     },
     "execution_count": 6,
     "metadata": {},
     "output_type": "execute_result"
    }
   ],
   "source": [
    "X = [\"A\", \"B\", \"C\"]\n",
    "Y = [\"A\", \"B\", \"C\"]\n",
    "\n",
    "Data_Mining.jaccard_similarity(X, Y)\n",
    "Data_Mining.Jaccard_Distance(X, Y)"
   ]
  },
  {
   "cell_type": "markdown",
   "id": "bfb4c9c8",
   "metadata": {},
   "source": [
    "# Similarity & Distance Dice Non-numerical"
   ]
  },
  {
   "cell_type": "code",
   "execution_count": 8,
   "id": "dfcd817c",
   "metadata": {},
   "outputs": [
    {
     "name": "stdout",
     "output_type": "stream",
     "text": [
      "\n",
      "2 * | {'B', 'A', 'C'}  ∩  {'B', 'A', 'C'}  =  3 | / | {'B', 'A', 'C'}  ∪  {'B', 'A', 'C'}  =  6 | \n",
      "\n",
      "Dice similarity is =  6  /  6 = 1.0\n",
      "Dice Distance is = 1 - ( 6  /  6 ) =  0.0\n"
     ]
    },
    {
     "data": {
      "text/plain": [
       "0.0"
      ]
     },
     "execution_count": 8,
     "metadata": {},
     "output_type": "execute_result"
    }
   ],
   "source": [
    "X = [\"A\", \"B\", \"C\"]\n",
    "Y = [\"A\", \"B\", \"C\"]\n",
    "\n",
    "Data_Mining.Dice_similarity(X, Y)\n",
    "Data_Mining.Dice_Distance(X, Y)"
   ]
  },
  {
   "cell_type": "markdown",
   "id": "aec12e48",
   "metadata": {},
   "source": [
    "# Similarity & Distance Cosine Non-numerical"
   ]
  },
  {
   "cell_type": "code",
   "execution_count": 9,
   "id": "9a7b96b2",
   "metadata": {},
   "outputs": [
    {
     "name": "stdout",
     "output_type": "stream",
     "text": [
      "\n",
      "| {'B', 'A', 'C'}  ∩  {'B', 'A', 'C'}  =  3 | / √| {'B', 'A', 'C'} | * √| {'B', 'A', 'C'}  =  3.0 | \n",
      "\n",
      "similarity Cosine is =  3  /  3.0 = 1.0\n",
      "Cosine Distance is = 1 - ( 3  /  3.0 ) =  0.0\n"
     ]
    },
    {
     "data": {
      "text/plain": [
       "0.0"
      ]
     },
     "execution_count": 9,
     "metadata": {},
     "output_type": "execute_result"
    }
   ],
   "source": [
    "X = [\"A\", \"B\", \"C\"]\n",
    "Y = [\"A\", \"B\", \"C\"]\n",
    "\n",
    "Data_Mining.Cosine_similarity(X, Y)\n",
    "Data_Mining.Cosine_Distance(X, Y)"
   ]
  },
  {
   "cell_type": "code",
   "execution_count": 13,
   "id": "2051f45c",
   "metadata": {},
   "outputs": [
    {
     "name": "stdout",
     "output_type": "stream",
     "text": [
      "\n",
      "| {1, 2, 3}  ∩  {1, 2}  =  2 | / | {1, 2, 3}  ∪  {1, 2}  =  3 | \n",
      "\n",
      "similarity Jacarad is =  2  /  3 = 0.6666666666666666\n",
      "\n",
      "2 * | {1, 2, 3}  ∩  {1, 2}  =  2 | / | {1, 2, 3}  ∪  {1, 2}  =  5 | \n",
      "\n",
      "Dice similarity is =  4  /  5 = 0.8\n",
      "\n",
      "| {1, 2, 3}  ∩  {1, 2}  =  2 | / √| {1, 2, 3} | * √| {1, 2}  =  2.45 | \n",
      "\n",
      "similarity Cosine is =  2  /  2.45 = 0.82\n"
     ]
    },
    {
     "data": {
      "text/plain": [
       "0.82"
      ]
     },
     "execution_count": 13,
     "metadata": {},
     "output_type": "execute_result"
    }
   ],
   "source": [
    "X = [2, 1, 3]\n",
    "Y = [2, 1, 1]\n",
    "\n",
    "Data_Mining.jaccard_similarity(X, Y)\n",
    "Data_Mining.Dice_similarity(X, Y)\n",
    "Data_Mining.Cosine_similarity(X, Y)\n"
   ]
  },
  {
   "cell_type": "code",
   "execution_count": null,
   "id": "ecc665a1",
   "metadata": {},
   "outputs": [],
   "source": []
  }
 ],
 "metadata": {
  "kernelspec": {
   "display_name": "Python 3 (ipykernel)",
   "language": "python",
   "name": "python3"
  },
  "language_info": {
   "codemirror_mode": {
    "name": "ipython",
    "version": 3
   },
   "file_extension": ".py",
   "mimetype": "text/x-python",
   "name": "python",
   "nbconvert_exporter": "python",
   "pygments_lexer": "ipython3",
   "version": "3.9.10"
  }
 },
 "nbformat": 4,
 "nbformat_minor": 5
}

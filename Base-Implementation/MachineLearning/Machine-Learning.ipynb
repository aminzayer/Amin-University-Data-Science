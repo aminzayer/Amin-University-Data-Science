{
 "cells": [
  {
   "cell_type": "code",
   "execution_count": 1,
   "id": "b26286d1",
   "metadata": {},
   "outputs": [],
   "source": [
    "import numpy as np\n",
    "import pandas as pd\n",
    "from Dr_Ahangaran import MachineLearning"
   ]
  },
  {
   "cell_type": "markdown",
   "id": "1db95dbf",
   "metadata": {},
   "source": [
    "# Find-S Algorithm"
   ]
  },
  {
   "cell_type": "code",
   "execution_count": 2,
   "id": "0199d128",
   "metadata": {},
   "outputs": [
    {
     "name": "stdout",
     "output_type": "stream",
     "text": [
      "The attributes are:  [['a1' 'b2' 'c1' 'd3' 'e2' 'f1']\n",
      " ['a1' 'b2' 'c2' 'd3' 'e1' 'f1']\n",
      " ['a1' 'b3' 'c1' 'd3' 'e1' 'f1']\n",
      " ['a1' 'b1' 'c1' 'd3' 'e3' 'f1']\n",
      " ['a2' 'b2' 'c1' 'd3' 'e3' 'f3']]\n"
     ]
    }
   ],
   "source": [
    "# New DataFrame For test\n",
    "data = pd.DataFrame([['a1', 'b2', 'c1', 'd3', 'e2', 'f1', 'Yes'],\n",
    "                     ['a1', 'b2', 'c2', 'd3', 'e1', 'f1', 'No'],\n",
    "                     ['a1', 'b3', 'c1', 'd3', 'e1', 'f1', 'Yes'],\n",
    "                     ['a1', 'b1', 'c1', 'd3', 'e3', 'f1', 'Yes'],\n",
    "                     ['a2', 'b2', 'c1', 'd3', 'e3', 'f3', 'Yes']],\n",
    "             columns=['A', 'B', 'C', 'D', 'E', 'F', 'Target'])\n",
    "\n",
    "# making an array of all the attributes\n",
    "data_train = np.array(data)[:, :-1]\n",
    "print(\"The attributes are: \", data_train)"
   ]
  },
  {
   "cell_type": "code",
   "execution_count": 3,
   "id": "efb9665a",
   "metadata": {},
   "outputs": [
    {
     "name": "stdout",
     "output_type": "stream",
     "text": [
      "The target is:  ['Yes' 'No' 'Yes' 'Yes' 'Yes']\n"
     ]
    }
   ],
   "source": [
    "# segragating the target that has positive and negative examples\n",
    "target = np.array(data)[:, -1]\n",
    "print(\"The target is: \", target)"
   ]
  },
  {
   "cell_type": "code",
   "execution_count": 4,
   "id": "2097fcbd",
   "metadata": {},
   "outputs": [
    {
     "name": "stdout",
     "output_type": "stream",
     "text": [
      "level  0   ['a1' 'b2' 'c1' 'd3' 'e2' 'f1']\n",
      "level  1   ['a1' 'b2' 'c1' 'd3' 'e2' 'f1']\n",
      "level  2   ['a1' '?' 'c1' 'd3' '?' 'f1']\n",
      "level  3   ['a1' '?' 'c1' 'd3' '?' 'f1']\n",
      "level  4   ['?' '?' 'c1' 'd3' '?' '?']\n",
      "The final is: ['?' '?' 'c1' 'd3' '?' '?']\n"
     ]
    }
   ],
   "source": [
    "# obtaining the final hypothesis\n",
    "print(\"The final is:\", MachineLearning.Find_S(data_train, target))"
   ]
  },
  {
   "cell_type": "markdown",
   "id": "41818ac3",
   "metadata": {},
   "source": [
    "# Candidate Elminiation Algorithm"
   ]
  },
  {
   "cell_type": "code",
   "execution_count": 5,
   "id": "26937dec",
   "metadata": {},
   "outputs": [
    {
     "name": "stdout",
     "output_type": "stream",
     "text": [
      "\n",
      "Instances are:\n",
      " [['sunny' 'warm' 'normal' 'strong' 'warm' 'same']\n",
      " ['sunny' 'warm' 'high' 'strong' 'warm' 'same']\n",
      " ['rainy' 'cold' 'high' 'strong' 'warm' 'change']\n",
      " ['sunny' 'warm' 'high' 'strong' 'cool' 'change']]\n"
     ]
    }
   ],
   "source": [
    "# New DataFrame For test\n",
    "#data = pd.DataFrame([['a1', 'b2', 'c1', 'd3', 'e2', 'f1', 'Yes'],\n",
    "#                     ['a1', 'b2', 'c2', 'd3', 'e1', 'f1', 'No'],\n",
    "#                     ['a1', 'b3', 'c1', 'd3', 'e1', 'f1', 'Yes'],\n",
    "#                     ['a1', 'b1', 'c1', 'd3', 'e3', 'f1', 'Yes'],\n",
    "#                     ['a2', 'b2', 'c1', 'd3', 'e3', 'f3', 'Yes']],\n",
    "#             columns=['A', 'B', 'C', 'D', 'E', 'F', 'Target'])\n",
    "\n",
    "data = pd.DataFrame(pd.read_csv('MyData.csv'))\n",
    "\n",
    "# making an array of all the attributes\n",
    "concepts = np.array(data)[:, :-1]\n",
    "print(\"\\nInstances are:\\n\", concepts)"
   ]
  },
  {
   "cell_type": "code",
   "execution_count": 6,
   "id": "6d0ce449",
   "metadata": {},
   "outputs": [
    {
     "name": "stdout",
     "output_type": "stream",
     "text": [
      "\n",
      "Target Values are:  ['yes' 'yes' 'no' 'yes']\n"
     ]
    }
   ],
   "source": [
    "# segragating the target that has positive and negative examples\n",
    "target = np.array(data)[:, -1]\n",
    "print(\"\\nTarget Values are: \", target)"
   ]
  },
  {
   "cell_type": "code",
   "execution_count": 7,
   "id": "eca49475",
   "metadata": {},
   "outputs": [
    {
     "name": "stdout",
     "output_type": "stream",
     "text": [
      "\n",
      "Class Target is :  yes \n",
      " specific_h : \n",
      " ['sunny' 'warm' 'normal' 'strong' 'warm' 'same'] \n",
      " general_h : \n",
      " [['?', '?', '?', '?', '?', '?'], ['?', '?', '?', '?', '?', '?'], ['?', '?', '?', '?', '?', '?'], ['?', '?', '?', '?', '?', '?'], ['?', '?', '?', '?', '?', '?'], ['?', '?', '?', '?', '?', '?']] \n",
      "\n",
      "\n",
      "Class Target is :  yes \n",
      " specific_h : \n",
      " ['sunny' 'warm' '?' 'strong' 'warm' 'same'] \n",
      " general_h : \n",
      " [['?', '?', '?', '?', '?', '?'], ['?', '?', '?', '?', '?', '?'], ['?', '?', '?', '?', '?', '?'], ['?', '?', '?', '?', '?', '?'], ['?', '?', '?', '?', '?', '?'], ['?', '?', '?', '?', '?', '?']] \n",
      "\n",
      "\n",
      "Class Target is :  no \n",
      " specific_h : \n",
      " ['sunny' 'warm' '?' 'strong' 'warm' 'same'] \n",
      " general_h : \n",
      " [['sunny', '?', '?', '?', '?', '?'], ['?', 'warm', '?', '?', '?', '?'], ['?', '?', '?', '?', '?', '?'], ['?', '?', '?', '?', '?', '?'], ['?', '?', '?', '?', '?', '?'], ['?', '?', '?', '?', '?', 'same']] \n",
      "\n",
      "\n",
      "Class Target is :  yes \n",
      " specific_h : \n",
      " ['sunny' 'warm' '?' 'strong' '?' '?'] \n",
      " general_h : \n",
      " [['sunny', '?', '?', '?', '?', '?'], ['?', 'warm', '?', '?', '?', '?'], ['?', '?', '?', '?', '?', '?'], ['?', '?', '?', '?', '?', '?'], ['?', '?', '?', '?', '?', '?'], ['?', '?', '?', '?', '?', '?']] \n",
      "\n",
      "Final Level Removing :\n",
      " specific_h : \n",
      " ['sunny' 'warm' '?' 'strong' '?' '?'] \n",
      " general_h : \n",
      " [['sunny', '?', '?', '?', '?', '?'], ['?', 'warm', '?', '?', '?', '?'], ['?', '?', '?', '?', '?', '?'], ['?', '?', '?', '?', '?', '?'], ['?', '?', '?', '?', '?', '?'], ['?', '?', '?', '?', '?', '?']] \n",
      "\n",
      "Final Specific_h: \n",
      "['sunny' 'warm' '?' 'strong' '?' '?']\n",
      "Final General_h: \n",
      "[['sunny', '?', '?', '?', '?', '?'], ['?', 'warm', '?', '?', '?', '?']]\n"
     ]
    }
   ],
   "source": [
    "s_final, g_final = MachineLearning.Candidate_Elminiation(concepts, target)\n",
    "\n",
    "print(\"Final Specific_h: \", s_final, sep=\"\\n\")\n",
    "print(\"Final General_h: \", g_final, sep=\"\\n\")"
   ]
  },
  {
   "cell_type": "markdown",
   "id": "96823733",
   "metadata": {},
   "source": [
    "# Decision Tree Algorithm"
   ]
  },
  {
   "cell_type": "code",
   "execution_count": 8,
   "id": "f816ef43",
   "metadata": {},
   "outputs": [
    {
     "name": "stdout",
     "output_type": "stream",
     "text": [
      "\n",
      " Attributes : \n",
      " [['Blue' 'Minivan' 4 'Whitewall' '-']\n",
      " ['Green' 'Car' 4 'Whitewall' '-']\n",
      " ['Red' 'Minivan' 4 'Blackwall' '-']\n",
      " ['Green' 'SUV' 4 'Blackwall' '-']\n",
      " ['Blue' 'Car' 4 'Blackwall' '-']\n",
      " ['Green' 'SUV' 4 'Whitewall' '+']\n",
      " ['Green' 'Minivan' 4 'Whitewall' '-']\n",
      " ['Red' 'SUV' 2 'Whitewall' '+']\n",
      " ['Green' 'Car' 2 'Blackwall' '+']\n",
      " ['Blue' 'SUV' 2 'Blackwall' '-']\n",
      " ['Blue' 'Car' 2 'Whitewall' '+']\n",
      " ['Red' 'Car' 2 'Blackwall' '+']\n",
      " ['Green' 'SUV' 2 'Blackwall' '-']\n",
      " ['Red' 'SUV' 2 'Blackwall' '-']]\n"
     ]
    }
   ],
   "source": [
    "# New DataFrame For test\n",
    "#data = pd.DataFrame([['a1', 'b2', 'c1', 'd3', 'e2', 'f1', 'Yes'],\n",
    "#                     ['a1', 'b2', 'c2', 'd3', 'e1', 'f1', 'No'],\n",
    "#                     ['a1', 'b3', 'c1', 'd3', 'e1', 'f1', 'Yes'],\n",
    "#                     ['a1', 'b1', 'c1', 'd3', 'e3', 'f1', 'Yes'],\n",
    "#                     ['a2', 'b2', 'c1', 'd3', 'e3', 'f3', 'Yes']],\n",
    "#             columns=['A', 'B', 'C', 'D', 'E', 'F', 'Target'])\n",
    "\n",
    "#train_data_m = pd.read_csv(\"ID3_Dataset.csv\")\n",
    "train_data_m = pd.read_csv(\"Car-Example.csv\")\n",
    "\n",
    "# making an array of all the attributes\n",
    "data = np.array(train_data_m)\n",
    "print(\"\\n Attributes : \\n\", data)"
   ]
  },
  {
   "cell_type": "code",
   "execution_count": 9,
   "id": "5e23eaa4",
   "metadata": {},
   "outputs": [
    {
     "name": "stdout",
     "output_type": "stream",
     "text": [
      "\n",
      " Class : \n",
      " ['-' '-' '-' '-' '-' '+' '-' '+' '+' '-' '+' '+' '-' '-']\n"
     ]
    }
   ],
   "source": [
    "class_label = np.array(train_data_m)[:, -1]\n",
    "print(\"\\n Class : \\n\", class_label)"
   ]
  },
  {
   "cell_type": "code",
   "execution_count": 10,
   "id": "37b2a2c0",
   "metadata": {},
   "outputs": [
    {
     "name": "stdout",
     "output_type": "stream",
     "text": [
      "Total Entropy =  - (9/14)log(9/14) - (5/14)log(5/14)  =  0.9402859586706311\n",
      "---------------------------------------------------------------------\n",
      "Gain Label of ( Color  =  ['Blue' 'Green' 'Red'] ) =  0.9402859586706311  - [  ( 4 / 14  ) x (Entropy ( Blue )= 0.8112781244591328 ) +   ( 6 / 14  ) x (Entropy ( Green )= 0.9182958340544896 ) +   ( 4 / 14  ) x (Entropy ( Red )= 1.0 ) +  ] =  0.02922256565895487\n",
      "---------------------------------------------------------------------\n",
      "Total Entropy =  - (9/14)log(9/14) - (5/14)log(5/14)  =  0.9402859586706311\n",
      "---------------------------------------------------------------------\n",
      "Gain Label of ( Type  =  ['Minivan' 'Car' 'SUV'] ) =  0.9402859586706311  - [  ( 3 / 14  ) x (Entropy ( Minivan )= 0.0 ) +   ( 5 / 14  ) x (Entropy ( Car )= 0.9709505944546686 ) +   ( 6 / 14  ) x (Entropy ( SUV )= 0.9182958340544896 ) +  ] =  0.19996253177061118\n",
      "---------------------------------------------------------------------\n",
      "Total Entropy =  - (9/14)log(9/14) - (5/14)log(5/14)  =  0.9402859586706311\n",
      "---------------------------------------------------------------------\n",
      "Gain Label of ( Doors  =  [4 2] ) =  0.9402859586706311  - [  ( 7 / 14  ) x (Entropy ( 4 )= 0.5916727785823275 ) +   ( 7 / 14  ) x (Entropy ( 2 )= 0.9852281360342515 ) +  ] =  0.15183550136234159\n",
      "---------------------------------------------------------------------\n",
      "Total Entropy =  - (9/14)log(9/14) - (5/14)log(5/14)  =  0.9402859586706311\n",
      "---------------------------------------------------------------------\n",
      "Gain Label of ( Tires  =  ['Whitewall' 'Blackwall'] ) =  0.9402859586706311  - [  ( 6 / 14  ) x (Entropy ( Whitewall )= 1.0 ) +   ( 8 / 14  ) x (Entropy ( Blackwall )= 0.8112781244591328 ) +  ] =  0.04812703040826949\n",
      "---------------------------------------------------------------------\n",
      "************************************\n",
      "Max Feature is =  Type\n",
      "************************************\n",
      "Total Entropy =  - (2/5)log(2/5) - (3/5)log(3/5)  =  0.9709505944546686\n",
      "---------------------------------------------------------------------\n",
      "Gain Label of ( Color  =  ['Green' 'Blue' 'Red'] ) =  0.9709505944546686  - [  ( 2 / 5  ) x (Entropy ( Green )= 1.0 ) +   ( 2 / 5  ) x (Entropy ( Blue )= 1.0 ) +   ( 1 / 5  ) x (Entropy ( Red )= 0.0 ) +  ] =  0.17095059445466854\n",
      "---------------------------------------------------------------------\n",
      "Total Entropy =  - (2/5)log(2/5) - (3/5)log(3/5)  =  0.9709505944546686\n",
      "---------------------------------------------------------------------\n",
      "Gain Label of ( Type  =  ['Car'] ) =  0.9709505944546686  - [  ( 5 / 5  ) x (Entropy ( Car )= 0.9709505944546686 ) +  ] =  0.0\n",
      "---------------------------------------------------------------------\n",
      "Total Entropy =  - (2/5)log(2/5) - (3/5)log(3/5)  =  0.9709505944546686\n",
      "---------------------------------------------------------------------\n",
      "Gain Label of ( Doors  =  [4 2] ) =  0.9709505944546686  - [  ( 2 / 5  ) x (Entropy ( 4 )= 0.0 ) +   ( 3 / 5  ) x (Entropy ( 2 )= 0.0 ) +  ] =  0.9709505944546686\n",
      "---------------------------------------------------------------------\n",
      "Total Entropy =  - (2/5)log(2/5) - (3/5)log(3/5)  =  0.9709505944546686\n",
      "---------------------------------------------------------------------\n",
      "Gain Label of ( Tires  =  ['Whitewall' 'Blackwall'] ) =  0.9709505944546686  - [  ( 2 / 5  ) x (Entropy ( Whitewall )= 1.0 ) +   ( 3 / 5  ) x (Entropy ( Blackwall )= 0.9182958340544896 ) +  ] =  0.01997309402197489\n",
      "---------------------------------------------------------------------\n",
      "************************************\n",
      "Max Feature is =  Doors\n",
      "************************************\n",
      "Total Entropy =  - (4/6)log(4/6) - (2/6)log(2/6)  =  0.9182958340544896\n",
      "---------------------------------------------------------------------\n",
      "Gain Label of ( Color  =  ['Green' 'Red' 'Blue'] ) =  0.9182958340544896  - [  ( 3 / 6  ) x (Entropy ( Green )= 0.9182958340544896 ) +   ( 2 / 6  ) x (Entropy ( Red )= 1.0 ) +   ( 1 / 6  ) x (Entropy ( Blue )= 0.0 ) +  ] =  0.12581458369391152\n",
      "---------------------------------------------------------------------\n",
      "Total Entropy =  - (4/6)log(4/6) - (2/6)log(2/6)  =  0.9182958340544896\n",
      "---------------------------------------------------------------------\n",
      "Gain Label of ( Type  =  ['SUV'] ) =  0.9182958340544896  - [  ( 6 / 6  ) x (Entropy ( SUV )= 0.9182958340544896 ) +  ] =  0.0\n",
      "---------------------------------------------------------------------\n",
      "Total Entropy =  - (4/6)log(4/6) - (2/6)log(2/6)  =  0.9182958340544896\n",
      "---------------------------------------------------------------------\n",
      "Gain Label of ( Doors  =  [4 2] ) =  0.9182958340544896  - [  ( 2 / 6  ) x (Entropy ( 4 )= 1.0 ) +   ( 4 / 6  ) x (Entropy ( 2 )= 0.8112781244591328 ) +  ] =  0.044110417748401076\n",
      "---------------------------------------------------------------------\n",
      "Total Entropy =  - (4/6)log(4/6) - (2/6)log(2/6)  =  0.9182958340544896\n",
      "---------------------------------------------------------------------\n",
      "Gain Label of ( Tires  =  ['Blackwall' 'Whitewall'] ) =  0.9182958340544896  - [  ( 4 / 6  ) x (Entropy ( Blackwall )= 0.0 ) +   ( 2 / 6  ) x (Entropy ( Whitewall )= 0.0 ) +  ] =  0.9182958340544896\n",
      "---------------------------------------------------------------------\n",
      "************************************\n",
      "Max Feature is =  Tires\n",
      "************************************\n",
      "{'Type': {'Minivan': '-', 'Car': {'Doors': {4: '-', 2: '+'}}, 'SUV': {'Tires': {'Blackwall': '-', 'Whitewall': '+'}}}}\n"
     ]
    }
   ],
   "source": [
    "tree = MachineLearning.id3(train_data_m, 'Class')\n",
    "print(tree)"
   ]
  },
  {
   "cell_type": "code",
   "execution_count": 11,
   "id": "4d366261",
   "metadata": {},
   "outputs": [
    {
     "name": "stdout",
     "output_type": "stream",
     "text": [
      "{\n",
      "    \"Type\": {\n",
      "        \"Minivan\": \"-\",\n",
      "        \"Car\": {\n",
      "            \"Doors\": {\n",
      "                \"4\": \"-\",\n",
      "                \"2\": \"+\"\n",
      "            }\n",
      "        },\n",
      "        \"SUV\": {\n",
      "            \"Tires\": {\n",
      "                \"Blackwall\": \"-\",\n",
      "                \"Whitewall\": \"+\"\n",
      "            }\n",
      "        }\n",
      "    }\n",
      "}\n"
     ]
    }
   ],
   "source": [
    "import json\n",
    "print(json.dumps(tree, indent=4))"
   ]
  },
  {
   "cell_type": "code",
   "execution_count": 12,
   "id": "f4819815",
   "metadata": {},
   "outputs": [],
   "source": [
    "# New DataFrame For test\n",
    "train_data_m = pd.DataFrame([['a1', 'b1', 'c1', '+'],\n",
    "                     ['a2', 'b2', 'c1', '-'],\n",
    "                     ['a1', 'b2', 'c2','+'],\n",
    "                     ['a3', 'b1', 'c1','+'],\n",
    "                     ['a3', 'b2', 'c1','-'],\n",
    "                     ['a2', 'b1', 'c2','-']],\n",
    "                     columns=['A', 'B', 'C', 'Class'])"
   ]
  },
  {
   "cell_type": "code",
   "execution_count": 13,
   "id": "011008fc",
   "metadata": {},
   "outputs": [
    {
     "name": "stdout",
     "output_type": "stream",
     "text": [
      "\n",
      " Attributes : \n",
      " [['a1' 'b1' 'c1' '+']\n",
      " ['a2' 'b2' 'c1' '-']\n",
      " ['a1' 'b2' 'c2' '+']\n",
      " ['a3' 'b1' 'c1' '+']\n",
      " ['a3' 'b2' 'c1' '-']\n",
      " ['a2' 'b1' 'c2' '-']]\n"
     ]
    }
   ],
   "source": [
    "# making an array of all the attributes\n",
    "data = np.array(train_data_m)\n",
    "print(\"\\n Attributes : \\n\", data)"
   ]
  },
  {
   "cell_type": "code",
   "execution_count": 14,
   "id": "02046804",
   "metadata": {},
   "outputs": [
    {
     "name": "stdout",
     "output_type": "stream",
     "text": [
      "\n",
      " Class : \n",
      " ['+' '-' '+' '+' '-' '-']\n"
     ]
    }
   ],
   "source": [
    "class_label = np.array(train_data_m)[:, -1]\n",
    "print(\"\\n Class : \\n\", class_label)"
   ]
  },
  {
   "cell_type": "code",
   "execution_count": 15,
   "id": "4f1a90b4",
   "metadata": {},
   "outputs": [
    {
     "name": "stdout",
     "output_type": "stream",
     "text": [
      "Total Entropy =  - (3/6)log(3/6) - (3/6)log(3/6)  =  1.0\n",
      "---------------------------------------------------------------------\n",
      "Gain Label of ( A  =  ['a1' 'a2' 'a3'] ) =  1.0  - [  ( 2 / 6  ) x (Entropy ( a1 )= 0.0 ) +   ( 2 / 6  ) x (Entropy ( a2 )= 0.0 ) +   ( 2 / 6  ) x (Entropy ( a3 )= 1.0 ) +  ] =  0.6666666666666667\n",
      "---------------------------------------------------------------------\n",
      "Total Entropy =  - (3/6)log(3/6) - (3/6)log(3/6)  =  1.0\n",
      "---------------------------------------------------------------------\n",
      "Gain Label of ( B  =  ['b1' 'b2'] ) =  1.0  - [  ( 3 / 6  ) x (Entropy ( b1 )= 0.9182958340544896 ) +   ( 3 / 6  ) x (Entropy ( b2 )= 0.9182958340544896 ) +  ] =  0.08170416594551044\n",
      "---------------------------------------------------------------------\n",
      "Total Entropy =  - (3/6)log(3/6) - (3/6)log(3/6)  =  1.0\n",
      "---------------------------------------------------------------------\n",
      "Gain Label of ( C  =  ['c1' 'c2'] ) =  1.0  - [  ( 4 / 6  ) x (Entropy ( c1 )= 1.0 ) +   ( 2 / 6  ) x (Entropy ( c2 )= 1.0 ) +  ] =  0.0\n",
      "---------------------------------------------------------------------\n",
      "************************************\n",
      "Max Feature is =  A\n",
      "************************************\n",
      "Total Entropy =  - (1/2)log(1/2) - (1/2)log(1/2)  =  1.0\n",
      "---------------------------------------------------------------------\n",
      "Gain Label of ( A  =  ['a3'] ) =  1.0  - [  ( 2 / 2  ) x (Entropy ( a3 )= 1.0 ) +  ] =  0.0\n",
      "---------------------------------------------------------------------\n",
      "Total Entropy =  - (1/2)log(1/2) - (1/2)log(1/2)  =  1.0\n",
      "---------------------------------------------------------------------\n",
      "Gain Label of ( B  =  ['b1' 'b2'] ) =  1.0  - [  ( 1 / 2  ) x (Entropy ( b1 )= 0.0 ) +   ( 1 / 2  ) x (Entropy ( b2 )= 0.0 ) +  ] =  1.0\n",
      "---------------------------------------------------------------------\n",
      "Total Entropy =  - (1/2)log(1/2) - (1/2)log(1/2)  =  1.0\n",
      "---------------------------------------------------------------------\n",
      "Gain Label of ( C  =  ['c1'] ) =  1.0  - [  ( 2 / 2  ) x (Entropy ( c1 )= 1.0 ) +  ] =  0.0\n",
      "---------------------------------------------------------------------\n",
      "************************************\n",
      "Max Feature is =  B\n",
      "************************************\n",
      "{\n",
      "    \"A\": {\n",
      "        \"a1\": \"+\",\n",
      "        \"a2\": \"-\",\n",
      "        \"a3\": {\n",
      "            \"B\": {\n",
      "                \"b1\": \"+\",\n",
      "                \"b2\": \"-\"\n",
      "            }\n",
      "        }\n",
      "    }\n",
      "}\n"
     ]
    }
   ],
   "source": [
    "tree = MachineLearning.id3(train_data_m, 'Class')\n",
    "print(json.dumps(tree, indent=4))"
   ]
  },
  {
   "cell_type": "code",
   "execution_count": 16,
   "id": "34e73ce8",
   "metadata": {},
   "outputs": [],
   "source": [
    "# New DataFrame For test\n",
    "train_data_m = pd.DataFrame([['x1', 'y2', 'z1', 'True'],\n",
    "                             ['x1', 'y1', 'z2', 'False'],\n",
    "                             ['x2', 'y1', 'z1','True'],\n",
    "                             ['x2', 'y2', 'z1','True'],\n",
    "                             ['x1', 'y1', 'z1','False'],\n",
    "                             ['x2', 'y1', 'z2','False']],\n",
    "                            columns=['X', 'Y', 'Z', 'Class'])"
   ]
  },
  {
   "cell_type": "code",
   "execution_count": 17,
   "id": "5ec70974",
   "metadata": {},
   "outputs": [
    {
     "name": "stdout",
     "output_type": "stream",
     "text": [
      "\n",
      " Attributes : \n",
      " [['x1' 'y2' 'z1' 'True']\n",
      " ['x1' 'y1' 'z2' 'False']\n",
      " ['x2' 'y1' 'z1' 'True']\n",
      " ['x2' 'y2' 'z1' 'True']\n",
      " ['x1' 'y1' 'z1' 'False']\n",
      " ['x2' 'y1' 'z2' 'False']]\n"
     ]
    }
   ],
   "source": [
    "# making an array of all the attributes\n",
    "data = np.array(train_data_m)\n",
    "print(\"\\n Attributes : \\n\", data)"
   ]
  },
  {
   "cell_type": "code",
   "execution_count": 18,
   "id": "879194bb",
   "metadata": {},
   "outputs": [
    {
     "name": "stdout",
     "output_type": "stream",
     "text": [
      "\n",
      " Class : \n",
      " ['True' 'False' 'True' 'True' 'False' 'False']\n"
     ]
    }
   ],
   "source": [
    "class_label = np.array(train_data_m)[:, -1]\n",
    "print(\"\\n Class : \\n\", class_label)"
   ]
  },
  {
   "cell_type": "code",
   "execution_count": 19,
   "id": "6b4e4b68",
   "metadata": {},
   "outputs": [
    {
     "name": "stdout",
     "output_type": "stream",
     "text": [
      "Total Entropy =  - (3/6)log(3/6) - (3/6)log(3/6)  =  1.0\n",
      "---------------------------------------------------------------------\n",
      "Gain Label of ( X  =  ['x1' 'x2'] ) =  1.0  - [  ( 3 / 6  ) x (Entropy ( x1 )= 0.9182958340544896 ) +   ( 3 / 6  ) x (Entropy ( x2 )= 0.9182958340544896 ) +  ] =  0.08170416594551044\n",
      "---------------------------------------------------------------------\n",
      "Total Entropy =  - (3/6)log(3/6) - (3/6)log(3/6)  =  1.0\n",
      "---------------------------------------------------------------------\n",
      "Gain Label of ( Y  =  ['y2' 'y1'] ) =  1.0  - [  ( 2 / 6  ) x (Entropy ( y2 )= 0.0 ) +   ( 4 / 6  ) x (Entropy ( y1 )= 0.8112781244591328 ) +  ] =  0.4591479170272448\n",
      "---------------------------------------------------------------------\n",
      "Total Entropy =  - (3/6)log(3/6) - (3/6)log(3/6)  =  1.0\n",
      "---------------------------------------------------------------------\n",
      "Gain Label of ( Z  =  ['z1' 'z2'] ) =  1.0  - [  ( 4 / 6  ) x (Entropy ( z1 )= 0.8112781244591328 ) +   ( 2 / 6  ) x (Entropy ( z2 )= 0.0 ) +  ] =  0.4591479170272448\n",
      "---------------------------------------------------------------------\n",
      "************************************\n",
      "Max Feature is =  Y\n",
      "************************************\n",
      "Total Entropy =  - (1/4)log(1/4) - (3/4)log(3/4)  =  0.8112781244591328\n",
      "---------------------------------------------------------------------\n",
      "Gain Label of ( X  =  ['x1' 'x2'] ) =  0.8112781244591328  - [  ( 2 / 4  ) x (Entropy ( x1 )= 0.0 ) +   ( 2 / 4  ) x (Entropy ( x2 )= 1.0 ) +  ] =  0.31127812445913283\n",
      "---------------------------------------------------------------------\n",
      "Total Entropy =  - (1/4)log(1/4) - (3/4)log(3/4)  =  0.8112781244591328\n",
      "---------------------------------------------------------------------\n",
      "Gain Label of ( Y  =  ['y1'] ) =  0.8112781244591328  - [  ( 4 / 4  ) x (Entropy ( y1 )= 0.8112781244591328 ) +  ] =  0.0\n",
      "---------------------------------------------------------------------\n",
      "Total Entropy =  - (1/4)log(1/4) - (3/4)log(3/4)  =  0.8112781244591328\n",
      "---------------------------------------------------------------------\n",
      "Gain Label of ( Z  =  ['z2' 'z1'] ) =  0.8112781244591328  - [  ( 2 / 4  ) x (Entropy ( z2 )= 0.0 ) +   ( 2 / 4  ) x (Entropy ( z1 )= 1.0 ) +  ] =  0.31127812445913283\n",
      "---------------------------------------------------------------------\n",
      "************************************\n",
      "Max Feature is =  X\n",
      "************************************\n",
      "Total Entropy =  - (1/2)log(1/2) - (1/2)log(1/2)  =  1.0\n",
      "---------------------------------------------------------------------\n",
      "Gain Label of ( X  =  ['x2'] ) =  1.0  - [  ( 2 / 2  ) x (Entropy ( x2 )= 1.0 ) +  ] =  0.0\n",
      "---------------------------------------------------------------------\n",
      "Total Entropy =  - (1/2)log(1/2) - (1/2)log(1/2)  =  1.0\n",
      "---------------------------------------------------------------------\n",
      "Gain Label of ( Y  =  ['y1'] ) =  1.0  - [  ( 2 / 2  ) x (Entropy ( y1 )= 1.0 ) +  ] =  0.0\n",
      "---------------------------------------------------------------------\n",
      "Total Entropy =  - (1/2)log(1/2) - (1/2)log(1/2)  =  1.0\n",
      "---------------------------------------------------------------------\n",
      "Gain Label of ( Z  =  ['z1' 'z2'] ) =  1.0  - [  ( 1 / 2  ) x (Entropy ( z1 )= 0.0 ) +   ( 1 / 2  ) x (Entropy ( z2 )= 0.0 ) +  ] =  1.0\n",
      "---------------------------------------------------------------------\n",
      "************************************\n",
      "Max Feature is =  Z\n",
      "************************************\n",
      "{\n",
      "    \"Y\": {\n",
      "        \"y2\": \"True\",\n",
      "        \"y1\": {\n",
      "            \"X\": {\n",
      "                \"x1\": \"False\",\n",
      "                \"x2\": {\n",
      "                    \"Z\": {\n",
      "                        \"z1\": \"True\",\n",
      "                        \"z2\": \"False\"\n",
      "                    }\n",
      "                }\n",
      "            }\n",
      "        }\n",
      "    }\n",
      "}\n"
     ]
    }
   ],
   "source": [
    "tree = MachineLearning.id3(train_data_m, 'Class')\n",
    "print(json.dumps(tree, indent=4))"
   ]
  },
  {
   "cell_type": "code",
   "execution_count": 20,
   "id": "095d3128",
   "metadata": {},
   "outputs": [],
   "source": [
    "# New DataFrame For test\n",
    "train_data_m = pd.DataFrame([['T', 'T', '+'],\n",
    "                             ['T', 'T', '+'],\n",
    "                             ['T', 'F', '-'],\n",
    "                             ['F', 'F', '+'],\n",
    "                             ['F', 'T', '-'],\n",
    "                             ['F', 'T', '-']],\n",
    "                            columns=['a1', 'a2', 'Class'])"
   ]
  },
  {
   "cell_type": "code",
   "execution_count": 21,
   "id": "33a3e340",
   "metadata": {},
   "outputs": [
    {
     "name": "stdout",
     "output_type": "stream",
     "text": [
      "Total Entropy =  - (3/6)log(3/6) - (3/6)log(3/6)  =  1.0\n",
      "---------------------------------------------------------------------\n",
      "Gain Label of ( a1  =  ['T' 'F'] ) =  1.0  - [  ( 3 / 6  ) x (Entropy ( T )= 0.9182958340544896 ) +   ( 3 / 6  ) x (Entropy ( F )= 0.9182958340544896 ) +  ] =  0.08170416594551044\n",
      "---------------------------------------------------------------------\n",
      "Total Entropy =  - (3/6)log(3/6) - (3/6)log(3/6)  =  1.0\n",
      "---------------------------------------------------------------------\n",
      "Gain Label of ( a2  =  ['T' 'F'] ) =  1.0  - [  ( 4 / 6  ) x (Entropy ( T )= 1.0 ) +   ( 2 / 6  ) x (Entropy ( F )= 1.0 ) +  ] =  0.0\n",
      "---------------------------------------------------------------------\n",
      "************************************\n",
      "Max Feature is =  a1\n",
      "************************************\n",
      "Total Entropy =  - (2/3)log(2/3) - (1/3)log(1/3)  =  0.9182958340544896\n",
      "---------------------------------------------------------------------\n",
      "Gain Label of ( a1  =  ['T'] ) =  0.9182958340544896  - [  ( 3 / 3  ) x (Entropy ( T )= 0.9182958340544896 ) +  ] =  0.0\n",
      "---------------------------------------------------------------------\n",
      "Total Entropy =  - (2/3)log(2/3) - (1/3)log(1/3)  =  0.9182958340544896\n",
      "---------------------------------------------------------------------\n",
      "Gain Label of ( a2  =  ['T' 'F'] ) =  0.9182958340544896  - [  ( 2 / 3  ) x (Entropy ( T )= 0.0 ) +   ( 1 / 3  ) x (Entropy ( F )= 0.0 ) +  ] =  0.9182958340544896\n",
      "---------------------------------------------------------------------\n",
      "************************************\n",
      "Max Feature is =  a2\n",
      "************************************\n",
      "Total Entropy =  - (1/3)log(1/3) - (2/3)log(2/3)  =  0.9182958340544896\n",
      "---------------------------------------------------------------------\n",
      "Gain Label of ( a1  =  ['F'] ) =  0.9182958340544896  - [  ( 3 / 3  ) x (Entropy ( F )= 0.9182958340544896 ) +  ] =  0.0\n",
      "---------------------------------------------------------------------\n",
      "Total Entropy =  - (1/3)log(1/3) - (2/3)log(2/3)  =  0.9182958340544896\n",
      "---------------------------------------------------------------------\n",
      "Gain Label of ( a2  =  ['F' 'T'] ) =  0.9182958340544896  - [  ( 1 / 3  ) x (Entropy ( F )= 0.0 ) +   ( 2 / 3  ) x (Entropy ( T )= 0.0 ) +  ] =  0.9182958340544896\n",
      "---------------------------------------------------------------------\n",
      "************************************\n",
      "Max Feature is =  a2\n",
      "************************************\n",
      "{\n",
      "    \"a1\": {\n",
      "        \"T\": {\n",
      "            \"a2\": {\n",
      "                \"T\": \"+\",\n",
      "                \"F\": \"-\"\n",
      "            }\n",
      "        },\n",
      "        \"F\": {\n",
      "            \"a2\": {\n",
      "                \"F\": \"+\",\n",
      "                \"T\": \"-\"\n",
      "            }\n",
      "        }\n",
      "    }\n",
      "}\n"
     ]
    }
   ],
   "source": [
    "tree = MachineLearning.id3(train_data_m, 'Class')\n",
    "print(json.dumps(tree, indent=4))"
   ]
  },
  {
   "cell_type": "code",
   "execution_count": null,
   "id": "ffe86b1d",
   "metadata": {},
   "outputs": [],
   "source": []
  }
 ],
 "metadata": {
  "kernelspec": {
   "display_name": "Python 3 (ipykernel)",
   "language": "python",
   "name": "python3"
  },
  "language_info": {
   "codemirror_mode": {
    "name": "ipython",
    "version": 3
   },
   "file_extension": ".py",
   "mimetype": "text/x-python",
   "name": "python",
   "nbconvert_exporter": "python",
   "pygments_lexer": "ipython3",
   "version": "3.8.10"
  }
 },
 "nbformat": 4,
 "nbformat_minor": 5
}
